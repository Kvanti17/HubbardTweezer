{
 "cells": [
  {
   "cell_type": "markdown",
   "metadata": {},
   "source": [
    "# 3D Wannier"
   ]
  },
  {
   "cell_type": "code",
   "execution_count": 3,
   "metadata": {},
   "outputs": [
    {
     "name": "stdout",
     "output_type": "stream",
     "text": [
      "DVR: dx=[0.375]w is set.\n",
      "DVR: n=[16] is set.\n",
      "DVR: R0=[6.]w is set.\n",
      "['x']-reflection symmetry is used.\n",
      "param_set: trap parameter V0=104.52kHz w=1e-06m\n",
      "H_op: n=[16] dx=[0.375]w p=[1] Gaussian sparse diagonalization is enabled. Lowest 2 states are to be calculated.\n",
      "H_op: n=[16] dx=[0.375]w p=[1] Gaussian operator constructed.\n",
      "H_solver: Gaussian Hamiltonian solved. Time spent: 0.00s.\n",
      "H_solver: eigenstates memory usage: 0.00 MiB.\n",
      "H_op: n=[16] dx=[0.375]w p=[-1] Gaussian sparse diagonalization is enabled. Lowest 2 states are to be calculated.\n",
      "H_op: n=[16] dx=[0.375]w p=[-1] Gaussian operator constructed.\n"
     ]
    },
    {
     "ename": "ValueError",
     "evalue": "operands could not be broadcast together with remapped shapes [original->remapped]: (16,16)->(16,newaxis,newaxis,16) (17,1,1)->(1,1,17) ",
     "output_type": "error",
     "traceback": [
      "\u001b[0;31m---------------------------------------------------------------------------\u001b[0m",
      "\u001b[0;31mValueError\u001b[0m                                Traceback (most recent call last)",
      "\u001b[1;32m/Users/nottforestfc/Library/CloudStorage/OneDrive-RiceUniversity/Documents/Research/Optical tweezer on Fermi Hubbard/src/3D_Wannier.ipynb Cell 2'\u001b[0m in \u001b[0;36m<module>\u001b[0;34m\u001b[0m\n\u001b[1;32m      <a href='vscode-notebook-cell:/Users/nottforestfc/Library/CloudStorage/OneDrive-RiceUniversity/Documents/Research/Optical%20tweezer%20on%20Fermi%20Hubbard/src/3D_Wannier.ipynb#ch0000001?line=8'>9</a>\u001b[0m R0 \u001b[39m=\u001b[39m np\u001b[39m.\u001b[39marray([\u001b[39m6\u001b[39m, \u001b[39m3\u001b[39m, \u001b[39m7.2\u001b[39m])\n\u001b[1;32m     <a href='vscode-notebook-cell:/Users/nottforestfc/Library/CloudStorage/OneDrive-RiceUniversity/Documents/Research/Optical%20tweezer%20on%20Fermi%20Hubbard/src/3D_Wannier.ipynb#ch0000001?line=9'>10</a>\u001b[0m w \u001b[39m=\u001b[39m Wannier(n, R0, avg\u001b[39m=\u001b[39m\u001b[39m1\u001b[39m \u001b[39m/\u001b[39m \u001b[39m2\u001b[39m, symmetry\u001b[39m=\u001b[39m\u001b[39mTrue\u001b[39;00m)\n\u001b[0;32m---> <a href='vscode-notebook-cell:/Users/nottforestfc/Library/CloudStorage/OneDrive-RiceUniversity/Documents/Research/Optical%20tweezer%20on%20Fermi%20Hubbard/src/3D_Wannier.ipynb#ch0000001?line=11'>12</a>\u001b[0m two_site_TB(w)\n",
      "File \u001b[0;32m~/Library/CloudStorage/OneDrive-RiceUniversity/Documents/Research/Optical tweezer on Fermi Hubbard/src/wannier.py:128\u001b[0m, in \u001b[0;36mtwo_site_TB\u001b[0;34m(dvr)\u001b[0m\n\u001b[1;32m    <a href='file:///~/Library/CloudStorage/OneDrive-RiceUniversity/Documents/Research/Optical%20tweezer%20on%20Fermi%20Hubbard/src/wannier.py?line=125'>126</a>\u001b[0m Nsite \u001b[39m=\u001b[39m np\u001b[39m.\u001b[39mprod(np\u001b[39m.\u001b[39marray(lattice))\n\u001b[1;32m    <a href='file:///~/Library/CloudStorage/OneDrive-RiceUniversity/Documents/Research/Optical%20tweezer%20on%20Fermi%20Hubbard/src/wannier.py?line=126'>127</a>\u001b[0m dvr\u001b[39m.\u001b[39mupdate_lattice(lattice)\n\u001b[0;32m--> <a href='file:///~/Library/CloudStorage/OneDrive-RiceUniversity/Documents/Research/Optical%20tweezer%20on%20Fermi%20Hubbard/src/wannier.py?line=127'>128</a>\u001b[0m E, W, parity \u001b[39m=\u001b[39m Wannier_eig_basis(dvr)\n\u001b[1;32m    <a href='file:///~/Library/CloudStorage/OneDrive-RiceUniversity/Documents/Research/Optical%20tweezer%20on%20Fermi%20Hubbard/src/wannier.py?line=128'>129</a>\u001b[0m total_volumne \u001b[39m=\u001b[39m np\u001b[39m.\u001b[39mprod(dvr\u001b[39m.\u001b[39mR) \u001b[39m*\u001b[39m \u001b[39m2\u001b[39m\u001b[39m*\u001b[39m\u001b[39m*\u001b[39mnp\u001b[39m.\u001b[39msum(dvr\u001b[39m.\u001b[39mnd)\n\u001b[1;32m    <a href='file:///~/Library/CloudStorage/OneDrive-RiceUniversity/Documents/Research/Optical%20tweezer%20on%20Fermi%20Hubbard/src/wannier.py?line=130'>131</a>\u001b[0m U \u001b[39m=\u001b[39m parity_transfm(dvr)\n",
      "File \u001b[0;32m~/Library/CloudStorage/OneDrive-RiceUniversity/Documents/Research/Optical tweezer on Fermi Hubbard/src/wannier.py:93\u001b[0m, in \u001b[0;36mWannier_eig_basis\u001b[0;34m(dvr)\u001b[0m\n\u001b[1;32m     <a href='file:///~/Library/CloudStorage/OneDrive-RiceUniversity/Documents/Research/Optical%20tweezer%20on%20Fermi%20Hubbard/src/wannier.py?line=90'>91</a>\u001b[0m parity \u001b[39m=\u001b[39m np\u001b[39m.\u001b[39mtile(np\u001b[39m.\u001b[39marray([\u001b[39m1\u001b[39m, \u001b[39m1\u001b[39m]), (Nsite, \u001b[39m1\u001b[39m))  \u001b[39m# Parity sector marker\u001b[39;00m\n\u001b[1;32m     <a href='file:///~/Library/CloudStorage/OneDrive-RiceUniversity/Documents/Research/Optical%20tweezer%20on%20Fermi%20Hubbard/src/wannier.py?line=91'>92</a>\u001b[0m W \u001b[39m=\u001b[39m [Wp[:, i] \u001b[39mfor\u001b[39;00m i \u001b[39min\u001b[39;00m \u001b[39mrange\u001b[39m(Nsite)]\n\u001b[0;32m---> <a href='file:///~/Library/CloudStorage/OneDrive-RiceUniversity/Documents/Research/Optical%20tweezer%20on%20Fermi%20Hubbard/src/wannier.py?line=92'>93</a>\u001b[0m E, W, parity \u001b[39m=\u001b[39m add_sector(\n\u001b[1;32m     <a href='file:///~/Library/CloudStorage/OneDrive-RiceUniversity/Documents/Research/Optical%20tweezer%20on%20Fermi%20Hubbard/src/wannier.py?line=93'>94</a>\u001b[0m     [\u001b[39m-\u001b[39;49m\u001b[39m1\u001b[39;49m, \u001b[39m1\u001b[39;49m], dvr, Nsite, E, W,\n\u001b[1;32m     <a href='file:///~/Library/CloudStorage/OneDrive-RiceUniversity/Documents/Research/Optical%20tweezer%20on%20Fermi%20Hubbard/src/wannier.py?line=94'>95</a>\u001b[0m     parity)  \u001b[39m#  Get odd sector of the x lattice direction\u001b[39;00m\n\u001b[1;32m     <a href='file:///~/Library/CloudStorage/OneDrive-RiceUniversity/Documents/Research/Optical%20tweezer%20on%20Fermi%20Hubbard/src/wannier.py?line=96'>97</a>\u001b[0m \u001b[39mif\u001b[39;00m dvr\u001b[39m.\u001b[39mlattice\u001b[39m.\u001b[39mndim \u001b[39m>\u001b[39m \u001b[39m1\u001b[39m \u001b[39mand\u001b[39;00m \u001b[39mall\u001b[39m(Nsite \u001b[39m!=\u001b[39m dvr\u001b[39m.\u001b[39mlattice):  \u001b[39m# 2D lattice\u001b[39;00m\n\u001b[1;32m     <a href='file:///~/Library/CloudStorage/OneDrive-RiceUniversity/Documents/Research/Optical%20tweezer%20on%20Fermi%20Hubbard/src/wannier.py?line=97'>98</a>\u001b[0m     E, W, parity \u001b[39m=\u001b[39m add_sector(\n\u001b[1;32m     <a href='file:///~/Library/CloudStorage/OneDrive-RiceUniversity/Documents/Research/Optical%20tweezer%20on%20Fermi%20Hubbard/src/wannier.py?line=98'>99</a>\u001b[0m         [\u001b[39m1\u001b[39m, \u001b[39m-\u001b[39m\u001b[39m1\u001b[39m], dvr, Nsite, E, W,\n\u001b[1;32m    <a href='file:///~/Library/CloudStorage/OneDrive-RiceUniversity/Documents/Research/Optical%20tweezer%20on%20Fermi%20Hubbard/src/wannier.py?line=99'>100</a>\u001b[0m         parity)  \u001b[39m# Get odd sector of the y lattice direction\u001b[39;00m\n",
      "File \u001b[0;32m~/Library/CloudStorage/OneDrive-RiceUniversity/Documents/Research/Optical tweezer on Fermi Hubbard/src/wannier.py:117\u001b[0m, in \u001b[0;36madd_sector\u001b[0;34m(sector, dvr, Nsite, E, W, parity)\u001b[0m\n\u001b[1;32m    <a href='file:///~/Library/CloudStorage/OneDrive-RiceUniversity/Documents/Research/Optical%20tweezer%20on%20Fermi%20Hubbard/src/wannier.py?line=113'>114</a>\u001b[0m sec_idx \u001b[39m=\u001b[39m np\u001b[39m.\u001b[39marray([\u001b[39mTrue\u001b[39;00m, \u001b[39mTrue\u001b[39;00m, \u001b[39mFalse\u001b[39;00m]) \u001b[39m*\u001b[39m dvr\u001b[39m.\u001b[39mnd\n\u001b[1;32m    <a href='file:///~/Library/CloudStorage/OneDrive-RiceUniversity/Documents/Research/Optical%20tweezer%20on%20Fermi%20Hubbard/src/wannier.py?line=114'>115</a>\u001b[0m dvr\u001b[39m.\u001b[39mp[sec_idx] \u001b[39m=\u001b[39m sector[:np\u001b[39m.\u001b[39msum(sec_idx)]\n\u001b[0;32m--> <a href='file:///~/Library/CloudStorage/OneDrive-RiceUniversity/Documents/Research/Optical%20tweezer%20on%20Fermi%20Hubbard/src/wannier.py?line=116'>117</a>\u001b[0m Em, Wm \u001b[39m=\u001b[39m H_solver(dvr, Nsite)\n\u001b[1;32m    <a href='file:///~/Library/CloudStorage/OneDrive-RiceUniversity/Documents/Research/Optical%20tweezer%20on%20Fermi%20Hubbard/src/wannier.py?line=117'>118</a>\u001b[0m E \u001b[39m=\u001b[39m np\u001b[39m.\u001b[39mappend(E, Em)\n\u001b[1;32m    <a href='file:///~/Library/CloudStorage/OneDrive-RiceUniversity/Documents/Research/Optical%20tweezer%20on%20Fermi%20Hubbard/src/wannier.py?line=118'>119</a>\u001b[0m W \u001b[39m+\u001b[39m\u001b[39m=\u001b[39m [Wm[:, i] \u001b[39mfor\u001b[39;00m i \u001b[39min\u001b[39;00m \u001b[39mrange\u001b[39m(Nsite)]\n",
      "File \u001b[0;32m~/Library/CloudStorage/OneDrive-RiceUniversity/Documents/Research/Optical tweezer on Fermi Hubbard/src/DVR_full.py:338\u001b[0m, in \u001b[0;36mH_solver\u001b[0;34m(dvr, k)\u001b[0m\n\u001b[1;32m    <a href='file:///~/Library/CloudStorage/OneDrive-RiceUniversity/Documents/Research/Optical%20tweezer%20on%20Fermi%20Hubbard/src/DVR_full.py?line=335'>336</a>\u001b[0m t0 \u001b[39m=\u001b[39m time()\n\u001b[1;32m    <a href='file:///~/Library/CloudStorage/OneDrive-RiceUniversity/Documents/Research/Optical%20tweezer%20on%20Fermi%20Hubbard/src/DVR_full.py?line=336'>337</a>\u001b[0m N \u001b[39m=\u001b[39m np\u001b[39m.\u001b[39mproduct(no)\n\u001b[0;32m--> <a href='file:///~/Library/CloudStorage/OneDrive-RiceUniversity/Documents/Research/Optical%20tweezer%20on%20Fermi%20Hubbard/src/DVR_full.py?line=337'>338</a>\u001b[0m H \u001b[39m=\u001b[39m LinearOperator((N, N), matvec\u001b[39m=\u001b[39;49mapplyH)\n\u001b[1;32m    <a href='file:///~/Library/CloudStorage/OneDrive-RiceUniversity/Documents/Research/Optical%20tweezer%20on%20Fermi%20Hubbard/src/DVR_full.py?line=338'>339</a>\u001b[0m \u001b[39mif\u001b[39;00m dvr\u001b[39m.\u001b[39mabsorber:\n\u001b[1;32m    <a href='file:///~/Library/CloudStorage/OneDrive-RiceUniversity/Documents/Research/Optical%20tweezer%20on%20Fermi%20Hubbard/src/DVR_full.py?line=339'>340</a>\u001b[0m     E, W \u001b[39m=\u001b[39m sla\u001b[39m.\u001b[39meigs(H, k, which\u001b[39m=\u001b[39m\u001b[39m'\u001b[39m\u001b[39mSA\u001b[39m\u001b[39m'\u001b[39m)\n",
      "File \u001b[0;32m~/mambaforge/lib/python3.9/site-packages/scipy/sparse/linalg/_interface.py:521\u001b[0m, in \u001b[0;36m_CustomLinearOperator.__init__\u001b[0;34m(self, shape, matvec, rmatvec, matmat, dtype, rmatmat)\u001b[0m\n\u001b[1;32m    <a href='file:///~/mambaforge/lib/python3.9/site-packages/scipy/sparse/linalg/_interface.py?line=517'>518</a>\u001b[0m \u001b[39mself\u001b[39m\u001b[39m.\u001b[39m__rmatmat_impl \u001b[39m=\u001b[39m rmatmat\n\u001b[1;32m    <a href='file:///~/mambaforge/lib/python3.9/site-packages/scipy/sparse/linalg/_interface.py?line=518'>519</a>\u001b[0m \u001b[39mself\u001b[39m\u001b[39m.\u001b[39m__matmat_impl \u001b[39m=\u001b[39m matmat\n\u001b[0;32m--> <a href='file:///~/mambaforge/lib/python3.9/site-packages/scipy/sparse/linalg/_interface.py?line=520'>521</a>\u001b[0m \u001b[39mself\u001b[39;49m\u001b[39m.\u001b[39;49m_init_dtype()\n",
      "File \u001b[0;32m~/mambaforge/lib/python3.9/site-packages/scipy/sparse/linalg/_interface.py:178\u001b[0m, in \u001b[0;36mLinearOperator._init_dtype\u001b[0;34m(self)\u001b[0m\n\u001b[1;32m    <a href='file:///~/mambaforge/lib/python3.9/site-packages/scipy/sparse/linalg/_interface.py?line=175'>176</a>\u001b[0m \u001b[39mif\u001b[39;00m \u001b[39mself\u001b[39m\u001b[39m.\u001b[39mdtype \u001b[39mis\u001b[39;00m \u001b[39mNone\u001b[39;00m:\n\u001b[1;32m    <a href='file:///~/mambaforge/lib/python3.9/site-packages/scipy/sparse/linalg/_interface.py?line=176'>177</a>\u001b[0m     v \u001b[39m=\u001b[39m np\u001b[39m.\u001b[39mzeros(\u001b[39mself\u001b[39m\u001b[39m.\u001b[39mshape[\u001b[39m-\u001b[39m\u001b[39m1\u001b[39m])\n\u001b[0;32m--> <a href='file:///~/mambaforge/lib/python3.9/site-packages/scipy/sparse/linalg/_interface.py?line=177'>178</a>\u001b[0m     \u001b[39mself\u001b[39m\u001b[39m.\u001b[39mdtype \u001b[39m=\u001b[39m np\u001b[39m.\u001b[39masarray(\u001b[39mself\u001b[39;49m\u001b[39m.\u001b[39;49mmatvec(v))\u001b[39m.\u001b[39mdtype\n",
      "File \u001b[0;32m~/mambaforge/lib/python3.9/site-packages/scipy/sparse/linalg/_interface.py:232\u001b[0m, in \u001b[0;36mLinearOperator.matvec\u001b[0;34m(self, x)\u001b[0m\n\u001b[1;32m    <a href='file:///~/mambaforge/lib/python3.9/site-packages/scipy/sparse/linalg/_interface.py?line=228'>229</a>\u001b[0m \u001b[39mif\u001b[39;00m x\u001b[39m.\u001b[39mshape \u001b[39m!=\u001b[39m (N,) \u001b[39mand\u001b[39;00m x\u001b[39m.\u001b[39mshape \u001b[39m!=\u001b[39m (N,\u001b[39m1\u001b[39m):\n\u001b[1;32m    <a href='file:///~/mambaforge/lib/python3.9/site-packages/scipy/sparse/linalg/_interface.py?line=229'>230</a>\u001b[0m     \u001b[39mraise\u001b[39;00m \u001b[39mValueError\u001b[39;00m(\u001b[39m'\u001b[39m\u001b[39mdimension mismatch\u001b[39m\u001b[39m'\u001b[39m)\n\u001b[0;32m--> <a href='file:///~/mambaforge/lib/python3.9/site-packages/scipy/sparse/linalg/_interface.py?line=231'>232</a>\u001b[0m y \u001b[39m=\u001b[39m \u001b[39mself\u001b[39;49m\u001b[39m.\u001b[39;49m_matvec(x)\n\u001b[1;32m    <a href='file:///~/mambaforge/lib/python3.9/site-packages/scipy/sparse/linalg/_interface.py?line=233'>234</a>\u001b[0m \u001b[39mif\u001b[39;00m \u001b[39misinstance\u001b[39m(x, np\u001b[39m.\u001b[39mmatrix):\n\u001b[1;32m    <a href='file:///~/mambaforge/lib/python3.9/site-packages/scipy/sparse/linalg/_interface.py?line=234'>235</a>\u001b[0m     y \u001b[39m=\u001b[39m asmatrix(y)\n",
      "File \u001b[0;32m~/mambaforge/lib/python3.9/site-packages/scipy/sparse/linalg/_interface.py:530\u001b[0m, in \u001b[0;36m_CustomLinearOperator._matvec\u001b[0;34m(self, x)\u001b[0m\n\u001b[1;32m    <a href='file:///~/mambaforge/lib/python3.9/site-packages/scipy/sparse/linalg/_interface.py?line=528'>529</a>\u001b[0m \u001b[39mdef\u001b[39;00m \u001b[39m_matvec\u001b[39m(\u001b[39mself\u001b[39m, x):\n\u001b[0;32m--> <a href='file:///~/mambaforge/lib/python3.9/site-packages/scipy/sparse/linalg/_interface.py?line=529'>530</a>\u001b[0m     \u001b[39mreturn\u001b[39;00m \u001b[39mself\u001b[39;49m\u001b[39m.\u001b[39;49m__matvec_impl(x)\n",
      "File \u001b[0;32m~/Library/CloudStorage/OneDrive-RiceUniversity/Documents/Research/Optical tweezer on Fermi Hubbard/src/DVR_full.py:334\u001b[0m, in \u001b[0;36mH_solver.<locals>.applyH\u001b[0;34m(psi)\u001b[0m\n\u001b[1;32m    <a href='file:///~/Library/CloudStorage/OneDrive-RiceUniversity/Documents/Research/Optical%20tweezer%20on%20Fermi%20Hubbard/src/DVR_full.py?line=332'>333</a>\u001b[0m \u001b[39mdef\u001b[39;00m \u001b[39mapplyH\u001b[39m(psi):\n\u001b[0;32m--> <a href='file:///~/Library/CloudStorage/OneDrive-RiceUniversity/Documents/Research/Optical%20tweezer%20on%20Fermi%20Hubbard/src/DVR_full.py?line=333'>334</a>\u001b[0m     \u001b[39mreturn\u001b[39;00m H_op(dvr, T, V, no, psi)\n",
      "File \u001b[0;32m~/Library/CloudStorage/OneDrive-RiceUniversity/Documents/Research/Optical tweezer on Fermi Hubbard/src/DVR_full.py:290\u001b[0m, in \u001b[0;36mH_op\u001b[0;34m(DVR, T, V, no, psi0)\u001b[0m\n\u001b[1;32m    <a href='file:///~/Library/CloudStorage/OneDrive-RiceUniversity/Documents/Research/Optical%20tweezer%20on%20Fermi%20Hubbard/src/DVR_full.py?line=287'>288</a>\u001b[0m psi0 \u001b[39m=\u001b[39m psi0\u001b[39m.\u001b[39mreshape(\u001b[39m*\u001b[39mno)\n\u001b[1;32m    <a href='file:///~/Library/CloudStorage/OneDrive-RiceUniversity/Documents/Research/Optical%20tweezer%20on%20Fermi%20Hubbard/src/DVR_full.py?line=288'>289</a>\u001b[0m psi \u001b[39m=\u001b[39m V \u001b[39m*\u001b[39m psi0  \u001b[39m# delta_xx' delta_yy' delta_zz' V(x,y,z)\u001b[39;00m\n\u001b[0;32m--> <a href='file:///~/Library/CloudStorage/OneDrive-RiceUniversity/Documents/Research/Optical%20tweezer%20on%20Fermi%20Hubbard/src/DVR_full.py?line=289'>290</a>\u001b[0m psi \u001b[39m+\u001b[39m\u001b[39m=\u001b[39m np\u001b[39m.\u001b[39;49meinsum(\u001b[39m'\u001b[39;49m\u001b[39mij,jkl->ikl\u001b[39;49m\u001b[39m'\u001b[39;49m, T[\u001b[39m0\u001b[39;49m], psi0)  \u001b[39m# T_xx' delta_yy' delta_zz'\u001b[39;00m\n\u001b[1;32m    <a href='file:///~/Library/CloudStorage/OneDrive-RiceUniversity/Documents/Research/Optical%20tweezer%20on%20Fermi%20Hubbard/src/DVR_full.py?line=290'>291</a>\u001b[0m psi \u001b[39m+\u001b[39m\u001b[39m=\u001b[39m np\u001b[39m.\u001b[39meinsum(\u001b[39m'\u001b[39m\u001b[39mjl,ilk->ijk\u001b[39m\u001b[39m'\u001b[39m, T[\u001b[39m1\u001b[39m], psi0)  \u001b[39m# delta_xx' T_yy' delta_zz'\u001b[39;00m\n\u001b[1;32m    <a href='file:///~/Library/CloudStorage/OneDrive-RiceUniversity/Documents/Research/Optical%20tweezer%20on%20Fermi%20Hubbard/src/DVR_full.py?line=291'>292</a>\u001b[0m psi \u001b[39m+\u001b[39m\u001b[39m=\u001b[39m np\u001b[39m.\u001b[39meinsum(\u001b[39m'\u001b[39m\u001b[39mij,klj->kli\u001b[39m\u001b[39m'\u001b[39m, T[\u001b[39m2\u001b[39m], psi0)  \u001b[39m# delta_xx' delta_yy' T_zz'\u001b[39;00m\n",
      "File \u001b[0;32m<__array_function__ internals>:5\u001b[0m, in \u001b[0;36meinsum\u001b[0;34m(*args, **kwargs)\u001b[0m\n",
      "File \u001b[0;32m~/mambaforge/lib/python3.9/site-packages/numpy/core/einsumfunc.py:1359\u001b[0m, in \u001b[0;36meinsum\u001b[0;34m(out, optimize, *operands, **kwargs)\u001b[0m\n\u001b[1;32m   <a href='file:///~/mambaforge/lib/python3.9/site-packages/numpy/core/einsumfunc.py?line=1356'>1357</a>\u001b[0m     \u001b[39mif\u001b[39;00m specified_out:\n\u001b[1;32m   <a href='file:///~/mambaforge/lib/python3.9/site-packages/numpy/core/einsumfunc.py?line=1357'>1358</a>\u001b[0m         kwargs[\u001b[39m'\u001b[39m\u001b[39mout\u001b[39m\u001b[39m'\u001b[39m] \u001b[39m=\u001b[39m out\n\u001b[0;32m-> <a href='file:///~/mambaforge/lib/python3.9/site-packages/numpy/core/einsumfunc.py?line=1358'>1359</a>\u001b[0m     \u001b[39mreturn\u001b[39;00m c_einsum(\u001b[39m*\u001b[39;49moperands, \u001b[39m*\u001b[39;49m\u001b[39m*\u001b[39;49mkwargs)\n\u001b[1;32m   <a href='file:///~/mambaforge/lib/python3.9/site-packages/numpy/core/einsumfunc.py?line=1360'>1361</a>\u001b[0m \u001b[39m# Check the kwargs to avoid a more cryptic error later, without having to\u001b[39;00m\n\u001b[1;32m   <a href='file:///~/mambaforge/lib/python3.9/site-packages/numpy/core/einsumfunc.py?line=1361'>1362</a>\u001b[0m \u001b[39m# repeat default values here\u001b[39;00m\n\u001b[1;32m   <a href='file:///~/mambaforge/lib/python3.9/site-packages/numpy/core/einsumfunc.py?line=1362'>1363</a>\u001b[0m valid_einsum_kwargs \u001b[39m=\u001b[39m [\u001b[39m'\u001b[39m\u001b[39mdtype\u001b[39m\u001b[39m'\u001b[39m, \u001b[39m'\u001b[39m\u001b[39morder\u001b[39m\u001b[39m'\u001b[39m, \u001b[39m'\u001b[39m\u001b[39mcasting\u001b[39m\u001b[39m'\u001b[39m]\n",
      "\u001b[0;31mValueError\u001b[0m: operands could not be broadcast together with remapped shapes [original->remapped]: (16,16)->(16,newaxis,newaxis,16) (17,1,1)->(1,1,17) "
     ]
    }
   ],
   "source": [
    "from wannier import *\n",
    "import numpy as np\n",
    "\n",
    "N = 16\n",
    "# n = N * np.ones(3, dtype=int)\n",
    "# R0 = np.array([6, 3, 7.2])\n",
    "n = np.zeros(3, dtype=int)\n",
    "n[0] = N\n",
    "R0 = np.array([6, 3, 7.2])\n",
    "w = Wannier(n, R0, avg=1 / 2, symmetry=True)\n",
    "\n",
    "two_site_TB(w)"
   ]
  },
  {
   "cell_type": "code",
   "execution_count": null,
   "metadata": {},
   "outputs": [],
   "source": []
  }
 ],
 "metadata": {
  "interpreter": {
   "hash": "2e40e3571ba90a1d990bbd4d6b3d06901092cda6d190c6165fb53b18965115c0"
  },
  "kernelspec": {
   "display_name": "Python 3.9.10 ('base')",
   "language": "python",
   "name": "python3"
  },
  "language_info": {
   "codemirror_mode": {
    "name": "ipython",
    "version": 3
   },
   "file_extension": ".py",
   "mimetype": "text/x-python",
   "name": "python",
   "nbconvert_exporter": "python",
   "pygments_lexer": "ipython3",
   "version": "3.9.10"
  },
  "orig_nbformat": 4
 },
 "nbformat": 4,
 "nbformat_minor": 2
}

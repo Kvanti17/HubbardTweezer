{
 "cells": [
  {
   "cell_type": "markdown",
   "metadata": {},
   "source": [
    "# 3D Wannier calculations"
   ]
  },
  {
   "cell_type": "code",
   "execution_count": 1,
   "metadata": {},
   "outputs": [],
   "source": [
    "# Directives on Jupyter\n",
    "%reset\n",
    "# Auto reload bootstrap.py\n",
    "%load_ext autoreload\n",
    "%autoreload 2\n",
    "\n",
    "import numpy as np"
   ]
  },
  {
   "cell_type": "code",
   "execution_count": null,
   "metadata": {},
   "outputs": [],
   "source": [
    "from wannier import *\n",
    "import numpy as np\n",
    "from positify import positify\n",
    "\n",
    "N = 20\n",
    "# V0 = 100\n",
    "# ax = 820\n",
    "# ay = 1000\n",
    "R0 = np.array([3, 3, 7.2])\n",
    "dvr = Wannier(\n",
    "    N,\n",
    "    R0,\n",
    "    # lattice=np.array([2, 2], dtype=int),\n",
    "    lattice=np.array([3, 3], dtype=int),\n",
    "    # lc=(ax, ay),\n",
    "    # trap=(2 * V0, 707, 2.17E3),\n",
    "    # atom=86.9,\n",
    "    # laser=707,\n",
    "    # ascatt=95,\n",
    "    dim=3,\n",
    "    avg=1 / 2,\n",
    "    sparse=True,\n",
    "    symmetry=True)\n",
    "\n",
    "E, W, parity = eigen_basis(dvr)\n",
    "\n",
    "A, U = optimization(dvr, E, W, parity)\n",
    "mu = np.diag(A)  # Diagonals are mu_i\n",
    "t = -(A - np.diag(mu))  # Off-diagonals are t_ij\n",
    "V = interaction(dvr, U, W, parity)\n",
    "for i in range(dvr.bands):\n",
    "    mu = np.diag(A[i])  # Diagonals are mu_i\n",
    "    t = -(A[i] - np.diag(mu))  # Off-diagonals are t_ij\n",
    "    print(f'mu_i,{i+1} = ', np.real(mu))\n",
    "    print(f't_ij,{i+1} =', abs(t))\n",
    "print('U_i =', abs(V))"
   ]
  },
  {
   "cell_type": "markdown",
   "metadata": {},
   "source": [
    "| 1D | Chain (kHz) |\n",
    "| -- | ----- |\n",
    "| 2 | 0.33406693 |\n",
    "| 3 | 0.29108221 0.29108221 |\n",
    "| 4 | 0.29064946 0.24734239 0.29064945 |\n",
    "| 5 | 2.90641293e-01 2.46824744e-01 2.46824745e-01 2.90641295e-01 |\n",
    "\n",
    "| 2D | Plaquett (kHz) |\n",
    "| -- | -------- |\n",
    "| 2x2 | 0.33312028 0.09639722 |\n",
    "| 3x3 | 2.90170850e-01 2.89149888e-01 9.02413012e-02 8.77313483e-02 |"
   ]
  },
  {
   "cell_type": "code",
   "execution_count": null,
   "metadata": {},
   "outputs": [],
   "source": []
  }
 ],
 "metadata": {
  "interpreter": {
   "hash": "2e40e3571ba90a1d990bbd4d6b3d06901092cda6d190c6165fb53b18965115c0"
  },
  "kernelspec": {
   "display_name": "Python 3.9.12 ('base')",
   "language": "python",
   "name": "python3"
  },
  "language_info": {
   "codemirror_mode": {
    "name": "ipython",
    "version": 3
   },
   "file_extension": ".py",
   "mimetype": "text/x-python",
   "name": "python",
   "nbconvert_exporter": "python",
   "pygments_lexer": "ipython3",
   "version": "3.9.12"
  },
  "orig_nbformat": 4
 },
 "nbformat": 4,
 "nbformat_minor": 2
}

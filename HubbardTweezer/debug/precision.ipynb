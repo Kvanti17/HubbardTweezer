{
 "cells": [
  {
   "cell_type": "markdown",
   "metadata": {},
   "source": [
    "# Precision check"
   ]
  },
  {
   "cell_type": "code",
   "execution_count": null,
   "metadata": {},
   "outputs": [
    {
     "name": "stdout",
     "output_type": "stream",
     "text": [
      "[-0.0520358699629884  0.012933664594878  -0.0029146013545786]\n",
      "[[ 0.4463183511916375  0.7903009899569351  0.419790751044692 ]\n",
      " [ 0.4860241219848064  0.1798095894666008 -0.8552479549140999]\n",
      " [ 0.7513857080344796 -0.58574128829112    0.3038530252483643]]\n"
     ]
    }
   ],
   "source": [
    "import numpy.linalg as la\n",
    "import numpy as np\n",
    "\n",
    "a = np.array([[1, 2, 10], [4, 5, 6], [7, 8, 9]], dtype=np.float64)\n",
    "a += a.T\n",
    "a /= la.det(a)\n",
    "eval, evec = la.eig(a)\n",
    "\n",
    "np.set_printoptions(precision=16, suppress=False)\n",
    "print(eval)\n",
    "print(evec)\n"
   ]
  },
  {
   "cell_type": "code",
   "execution_count": null,
   "metadata": {},
   "outputs": [
    {
     "name": "stdout",
     "output_type": "stream",
     "text": [
      "-3.0037011600203556e-08\n",
      "1.3545786003293925e-09\n",
      "3.54051219991075e-08\n"
     ]
    }
   ],
   "source": [
    "print(-0.0520359 + 0.0520358699629884)\n",
    "print(-0.0029146 + 0.0029146013545786)\n",
    "print(0.0129337 - 0.012933664594878)\n"
   ]
  },
  {
   "cell_type": "markdown",
   "metadata": {},
   "source": [
    "It is possible to have 5 digits in single-to-double precision comparison."
   ]
  }
 ],
 "metadata": {
  "interpreter": {
   "hash": "2e40e3571ba90a1d990bbd4d6b3d06901092cda6d190c6165fb53b18965115c0"
  },
  "kernelspec": {
   "display_name": "Python 3.9.13 ('base')",
   "language": "python",
   "name": "python3"
  },
  "language_info": {
   "name": "python",
   "version": "3.9.13"
  },
  "orig_nbformat": 4
 },
 "nbformat": 4,
 "nbformat_minor": 2
}

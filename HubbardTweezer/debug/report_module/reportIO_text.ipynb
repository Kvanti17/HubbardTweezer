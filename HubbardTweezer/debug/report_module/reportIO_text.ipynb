{
 "cells": [
  {
   "attachments": {},
   "cell_type": "markdown",
   "metadata": {},
   "source": [
    "# ```reportIO``` test"
   ]
  },
  {
   "cell_type": "code",
   "execution_count": 1,
   "metadata": {},
   "outputs": [
    {
     "name": "stdout",
     "output_type": "stream",
     "text": [
      "geometry = square\n",
      "nx = 2.0\n",
      "none_var = nan\n",
      "nonExistItem = nan\n",
      "nonExistItem = 1\n"
     ]
    }
   ],
   "source": [
    "import reportIO as rep\n",
    "import numpy as np\n",
    "\n",
    "filename = 'haotian_example.ini'\n",
    "report = rep.get_report(filename)\n",
    "\n",
    "print(\"geometry =\", rep.s(report, \"Parameters\", \"geometry\"))\n",
    "print(\"nx =\", rep.f(report, \"Parameters\", \"nx\"))\n",
    "print(\"none_var =\", rep.f(report, \"Parameters\", \"none_var\"))\n",
    "print(\"nonExistItem =\", rep.f(report, \"Parameters\", \"nonExistItem\"))\n",
    "print(\"nonExistItem =\", rep.f(report, \"Parameters\", \"nonExistItem\", 1))\n"
   ]
  },
  {
   "cell_type": "code",
   "execution_count": 2,
   "metadata": {},
   "outputs": [
    {
     "name": "stdout",
     "output_type": "stream",
     "text": [
      "boolean_var = False\n",
      "boolean_list = [ True False False]\n"
     ]
    }
   ],
   "source": [
    "import reportIO as rep\n",
    "import numpy as np\n",
    "\n",
    "filename = 'haotian_example.ini'\n",
    "report = rep.get_report(filename)\n",
    "\n",
    "print(\"boolean_var =\", rep.b(report, \"Parameters\", \"boolean_var\"))\n",
    "print(\"boolean_list =\", rep.b(report, \"Parameters\", \"boolean_list\"))\n"
   ]
  },
  {
   "cell_type": "code",
   "execution_count": 5,
   "metadata": {},
   "outputs": [
    {
     "data": {
      "text/plain": [
       "{'array_1d': '[0.0, 0.1111111111111111, 0.2222222222222222, 0.3333333333333333, 0.4444444444444444, 0.5555555555555556, 0.6666666666666666, 0.7777777777777777, 0.8888888888888888, 1.0]', 'array_2d': '[[1.0, 0.0, 0.0], [0.0, 1.0, 0.0], [0.0, 0.0, 1.0]]', 'dict': {'A': '1', 'B': '2'}}"
      ]
     },
     "execution_count": 5,
     "metadata": {},
     "output_type": "execute_result"
    }
   ],
   "source": [
    "report[\"Output3\"]"
   ]
  },
  {
   "cell_type": "code",
   "execution_count": 4,
   "metadata": {},
   "outputs": [
    {
     "name": "stdout",
     "output_type": "stream",
     "text": [
      "Report loaded\n",
      "[0.         0.11111111 0.22222222 0.33333333 0.44444444 0.55555556\n",
      " 0.66666667 0.77777778 0.88888889 1.        ]\n",
      "[[1. 0. 0.]\n",
      " [0. 1. 0.]\n",
      " [0. 0. 1.]]\n"
     ]
    }
   ],
   "source": [
    "import reportIO as rep\n",
    "import numpy as np\n",
    "\n",
    "filename = \"haotian_example.ini\"\n",
    "report = rep.get_report(filename)\n",
    "\n",
    "values2 = {\n",
    "    \"array_1d\": np.linspace(0, 1, 10),\n",
    "    \"array_2d\": np.eye(3, 3),\n",
    "    \"dict\": {\"A\": 1, \"B\": 2},\n",
    "}\n",
    "rep.create_report(filename, \"Output3\", **values2)\n",
    "\n",
    "print(rep.a(report, \"Output3\", \"array_1d\"))\n",
    "print(rep.a(report, \"Output3\", \"array_2d\"))\n"
   ]
  },
  {
   "cell_type": "code",
   "execution_count": 3,
   "metadata": {},
   "outputs": [
    {
     "name": "stdout",
     "output_type": "stream",
     "text": [
      "[]\n"
     ]
    }
   ],
   "source": [
    "print(rep.a(report, \"Output3\", \"dict\"))"
   ]
  }
 ],
 "metadata": {
  "interpreter": {
   "hash": "2e40e3571ba90a1d990bbd4d6b3d06901092cda6d190c6165fb53b18965115c0"
  },
  "kernelspec": {
   "display_name": "Python 3.9.13 ('base')",
   "language": "python",
   "name": "python3"
  },
  "language_info": {
   "codemirror_mode": {
    "name": "ipython",
    "version": 3
   },
   "file_extension": ".py",
   "mimetype": "text/x-python",
   "name": "python",
   "nbconvert_exporter": "python",
   "pygments_lexer": "ipython3",
   "version": "3.10.10"
  },
  "orig_nbformat": 4,
  "vscode": {
   "interpreter": {
    "hash": "2e40e3571ba90a1d990bbd4d6b3d06901092cda6d190c6165fb53b18965115c0"
   }
  }
 },
 "nbformat": 4,
 "nbformat_minor": 2
}

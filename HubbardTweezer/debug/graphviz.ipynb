{
 "cells": [
  {
   "cell_type": "code",
   "execution_count": 19,
   "metadata": {},
   "outputs": [
    {
     "data": {
      "text/plain": [
       "'doctest-output/round-table.gv.pdf'"
      ]
     },
     "execution_count": 19,
     "metadata": {},
     "output_type": "execute_result"
    }
   ],
   "source": [
    "import graphviz as gv\n",
    "\n",
    "dot = gv.Graph('round-table', comment='The Round Table', engine='fdp')\n",
    "\n",
    "dot.attr(fontcolor='white')\n",
    "dot.attr('node', shape='circle', fixedsize='shape', style='filled', fillcolor='white:black',\n",
    "         gradientangle='360', label='n9:360', fontcolor='black')\n",
    "\n",
    "for i, a in zip(range(8, 0, -1), range(360 - 45, -1, -45)):\n",
    "    dot.node(f'n{i:d}', gradientangle=f'{a:d}',\n",
    "             label=f'n{i:d}:{a:d}', pos=f'{i:d},-{i:d}!', width=f'{i:d}', height=f'{i:d}')\n",
    "\n",
    "dot.render(directory='doctest-output', view=True)\n"
   ]
  },
  {
   "cell_type": "code",
   "execution_count": 1,
   "metadata": {},
   "outputs": [
    {
     "name": "stdout",
     "output_type": "stream",
     "text": [
      "V = [-36.39344865 -37.34372588 -37.34372588 -36.39344865]\n",
      "t = [0.26647354 0.22917274 0.26647354]\n",
      "U = [2.47318567 2.37119609 2.37119609 2.47318567]\n",
      "V_err = 0.012887356205727873\n",
      "t_err = 0.06921653408560127\n",
      "U_err = 0.021053167351423523\n"
     ]
    }
   ],
   "source": [
    "from Hubbard.graph import *\n",
    "import numpy as np\n",
    "\n",
    "N = 20\n",
    "R0 = np.array([3, 3, 7.2])\n",
    "G = HubbardGraph(N,\n",
    "                 R0=R0,\n",
    "                 lattice=np.array([4], dtype=int),\n",
    "                 band=1,\n",
    "                 dim=2,\n",
    "                 avg=1 / 2,\n",
    "                 sparse=True,\n",
    "                 equalize=False,\n",
    "                 symmetry=True,\n",
    "                 verbosity=0)\n",
    "# G.draw_graph('adjust')\n",
    "G.draw_graph(nnn=True)\n",
    "print(f'V = {np.diag(G.A)}')\n",
    "t = abs(G.nn_tunneling(G.A))\n",
    "print(f't = {t}')\n",
    "print(f'U = {G.U}')\n",
    "print(f'V_err = {G.v_cost_func(G.A, None)}')\n",
    "print(f't_err = {G.t_cost_func(G.A, None, None)}')\n",
    "print(f'U_err = {G.u_cost_func(G.U, None)}')"
   ]
  },
  {
   "cell_type": "code",
   "execution_count": 1,
   "metadata": {},
   "outputs": [
    {
     "name": "stdout",
     "output_type": "stream",
     "text": [
      "V = [-36.83540136 -37.24375537 -36.83540137 -37.78433449 -38.19588926\n",
      " -37.78433448 -36.83540136 -37.24375531 -36.83540136]\n",
      "t = [0.08089585 0.08089585 0.26503038 0.26327353 0.0783336  0.26503039\n",
      " 0.0783336  0.26503037 0.26327342 0.08089584 0.26503037 0.08089584]\n",
      "U = [2.40965057 2.35473869 2.40965057 2.31252844 2.26042608 2.31252844\n",
      " 2.40965057 2.35473871 2.40965057]\n",
      "V_err = 0.013077969556259512\n",
      "t_err = 0.010897845221495643\n",
      "U_err = 0.022039463026375574\n"
     ]
    }
   ],
   "source": [
    "from Hubbard.graph import *\n",
    "import numpy as np\n",
    "\n",
    "N = 20\n",
    "R0 = np.array([3, 3, 7.2])\n",
    "G = HubbardGraph(N,\n",
    "                 R0=R0,\n",
    "                 lattice=np.array([3, 3], dtype=int),\n",
    "                 band=1,\n",
    "                 dim=2,\n",
    "                 avg=1 / 2,\n",
    "                 sparse=True,\n",
    "                 equalize=False,\n",
    "                 symmetry=True,\n",
    "                 verbosity=0)\n",
    "# G.draw_graph('adjust')\n",
    "G.draw_graph(nnn=True)\n",
    "print(f'V = {np.diag(G.A)}')\n",
    "t = abs(G.nn_tunneling(G.A))\n",
    "print(f't = {t}')\n",
    "print(f'U = {G.U}')\n",
    "print(f'V_err = {G.v_cost_func(G.A, None)}')\n",
    "print(f't_err = {G.t_cost_func(G.A, None, None)}')\n",
    "print(f'U_err = {G.u_cost_func(G.U, None)}')\n"
   ]
  }
 ],
 "metadata": {
  "kernelspec": {
   "display_name": "Python 3.9.13 ('base')",
   "language": "python",
   "name": "python3"
  },
  "language_info": {
   "file_extension": ".jl",
   "mimetype": "application/julia",
   "name": "python",
   "version": "3.9.13"
  },
  "orig_nbformat": 4,
  "vscode": {
   "interpreter": {
    "hash": "2eac8acd6336e4fe74f41d72826d26c405cc4c08fb81a7ef84e2f26d4bf70bea"
   }
  }
 },
 "nbformat": 4,
 "nbformat_minor": 2
}

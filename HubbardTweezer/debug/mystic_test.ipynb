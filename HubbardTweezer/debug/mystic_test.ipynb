{
 "cells": [
  {
   "cell_type": "code",
   "execution_count": 9,
   "metadata": {},
   "outputs": [],
   "source": [
    "from mystic.bounds import Bounds\n",
    "\n",
    "v0, bounds = G.init_guess()\n",
    "bounds = Bounds(tuple(i[0] for i in bounds),\n",
    "                tuple(i[1] for i in bounds))\n"
   ]
  },
  {
   "cell_type": "code",
   "execution_count": 2,
   "metadata": {},
   "outputs": [
    {
     "name": "stdout",
     "output_type": "stream",
     "text": [
      "Initial trap depths: [1.04612851 0.96762333]\n",
      "Initial waists:\n",
      "[[0.95421684 1.        ]\n",
      " [0.93625594 1.        ]]\n",
      "Initial trap centers:\n",
      "[[-1.56850242  0.        ]\n",
      " [-0.40303007  0.        ]]\n",
      "i=50\tc=[0.04981892 0.05780119 0.04887597]\tc_i=0.15649608636240567\tc_i//2-c_i=0.5916481716736208\n",
      "i=100\tc=[0.64830768 0.35246714 0.9152422 ]\tc_i=1.91601701929208\tc_i//2-c_i=-1.1301871223414088\n",
      "Generation 0 has ChiSquare: 0.079365\n",
      "i=150\tc=[0.07102634 0.07652917 0.03484411]\tc_i=0.18239961456311218\tc_i//2-c_i=0.037994382505237456\n",
      "i=200\tc=[0.30862877 0.70710672 0.48587497]\tc_i=1.5016104565010984\tc_i//2-c_i=-1.2828764480415278\n",
      "i=250\tc=[0.02520186 0.01389408 0.02441618]\tc_i=0.06351212469152848\tc_i//2-c_i=0.7155187797974681\n",
      "i=300\tc=[0.0024181  0.70710677 0.00084876]\tc_i=0.7103736178102356\tc_i//2-c_i=-0.028454142064923138\n",
      "i=350\tc=[0.02520186 0.01389408 0.02441618]\tc_i=0.06351212469151572\tc_i//2-c_i=0.645148056136099\n",
      "i=400\tc=[0.08063101 0.11753173 0.00137602]\tc_i=0.19953875869017135\tc_i//2-c_i=0.6952286174526613\n",
      "i=450\tc=[0.02520186 0.01389408 0.02441618]\tc_i=0.06351212469152326\tc_i//2-c_i=0.6636304182587254\n",
      "i=500\tc=[0.00938361 0.70710678 0.00099708]\tc_i=0.7174874718157304\tc_i//2-c_i=-0.038745970680785224\n",
      "i=550\tc=[0.09660233 0.08421832 0.03626675]\tc_i=0.21708740232356552\tc_i//2-c_i=0.003306594744811181\n",
      "i=600\tc=[6.23861210e-03 7.07106781e-01 5.00183163e-04]\tc_i=0.7138455764506723\tc_i//2-c_i=-0.29771711464368406\n",
      "i=650\tc=[0.05665028 0.06868127 0.06044839]\tc_i=0.18577993298208378\tc_i//2-c_i=0.5057222261199874\n",
      "i=700\tc=[0.09418734 0.70700388 0.00657421]\tc_i=0.8077654282151591\tc_i//2-c_i=-0.08046093118286579\n",
      "i=750\tc=[0.05833978 0.068959   0.0044742 ]\tc_i=0.13177298138597443\tc_i//2-c_i=0.5862509127081392\n",
      "i=800\tc=[0.0364726  0.03240583 0.00012921]\tc_i=0.0690076462772328\tc_i//2-c_i=0.10717489634428723\n",
      "i=850\tc=[0.0319105  0.70710648 0.0009753 ]\tc_i=0.739992283719904\tc_i//2-c_i=-0.017609302870234544\n",
      "i=900\tc=[0.05743195 0.0624266  0.004224  ]\tc_i=0.12408255267090211\tc_i//2-c_i=0.05432871735070584\n",
      "i=950\tc=[0.05714461 0.07001353 0.00725658]\tc_i=0.1344147109915664\tc_i//2-c_i=0.5904207698092598\n",
      "i=1000\tc=[2.04891902e-03 7.07106781e-01 3.38680214e-04]\tc_i=0.7094943804203696\tc_i//2-c_i=-0.609288072464959\n",
      "i=1050\tc=[0.04223802 0.40178932 0.02956843]\tc_i=0.4735957749857296\tc_i//2-c_i=-0.2254608853587633\n",
      "i=1100\tc=[0.0364726  0.03240583 0.00012921]\tc_i=0.06900764627741642\tc_i//2-c_i=0.07369382478124233\n",
      "i=1150\tc=[0.02520186 0.01389408 0.02441618]\tc_i=0.06351212469151642\tc_i//2-c_i=1.9738606683426312\n",
      "i=1200\tc=[0.06472566 1.40836106 0.0015855 ]\tc_i=1.474672222803137\tc_i//2-c_i=-0.7230171674779526\n",
      "i=1250\tc=[0.08417712 0.70710614 0.02765538]\tc_i=0.8189386441915388\tc_i//2-c_i=-0.6909928559442758\n",
      "i=1300\tc=[1.27885498e-03 7.07106781e-01 7.91917052e-07]\tc_i=0.7083864280800021\tc_i//2-c_i=-0.516941256625751\n",
      "i=1350\tc=[0.0182408  0.70708466 0.02457023]\tc_i=0.7498956949918154\tc_i//2-c_i=-0.529501697923487\n",
      "i=1400\tc=[0.06183583 0.07170685 0.00943824]\tc_i=0.1429809162260488\tc_i//2-c_i=-0.0061336222743964275\n",
      "i=1450\tc=[0.02520186 0.01389408 0.02441618]\tc_i=0.06351212469152255\tc_i//2-c_i=0.7157801949465693\n",
      "i=1500\tc=[0.0311     0.70710678 0.00142633]\tc_i=0.7396331089050167\tc_i//2-c_i=-0.6077882373436911\n",
      "i=1550\tc=[0.07676111 0.08392598 0.05925793]\tc_i=0.21994501538452801\tc_i//2-c_i=-0.08822676529449994\n",
      "i=1600\tc=[0.15734196 0.70710414 0.14058137]\tc_i=1.0050274718761396\tc_i//2-c_i=-0.8459995555765862\n",
      "i=1650\tc=[0.02520186 0.01389408 0.02441618]\tc_i=0.06351212469153061\tc_i//2-c_i=0.08836684821113427\n",
      "i=1700\tc=[1.27216815e-05 7.07106781e-01 4.72107031e-05]\tc_i=0.7071667135711031\tc_i//2-c_i=-0.5753218420097126\n",
      "i=1750\tc=[0.07542274 0.70138837 0.00084206]\tc_i=0.7776531737300594\tc_i//2-c_i=-0.6349220644631475\n",
      "i=1800\tc=[0.0364726  0.03240583 0.00012921]\tc_i=0.0690076462773396\tc_i//2-c_i=2.162181575090058\n",
      "i=1850\tc=[0.05891871 0.70642498 0.0243681 ]\tc_i=0.7897117904166764\tc_i//2-c_i=-0.6658322023533936\n",
      "i=1900\tc=[0.08226069 0.08798974 0.0077608 ]\tc_i=0.1780112373909367\tc_i//2-c_i=-0.04616636582960046\n",
      "i=1950\tc=[0.03679117 0.03399993 0.00165734]\tc_i=0.07244843272250945\tc_i//2-c_i=0.020160895252689576\n",
      "i=2000\tc=[0.0364726  0.03240583 0.00012921]\tc_i=0.06900764627713608\tc_i//2-c_i=0.059238101651607714\n",
      "i=2050\tc=[0.07384337 0.07919151 0.03859643]\tc_i=0.19163130373232148\tc_i//2-c_i=-0.060687284389431856\n",
      "i=2100\tc=[0.03856852 0.04752743 0.00142381]\tc_i=0.08751976685284872\tc_i//2-c_i=0.09736340480238152\n",
      "i=2150\tc=[0.02520186 0.01389408 0.02441618]\tc_i=0.06351212469151654\tc_i//2-c_i=0.029097203283747514\n",
      "i=2200\tc=[5.42721183e-03 7.07106781e-01 2.16231210e-04]\tc_i=0.7127502242281823\tc_i//2-c_i=-0.5763729188643592\n",
      "i=2250\tc=[0.08352748 0.70710608 0.15182523]\tc_i=0.9424587951454566\tc_i//2-c_i=-0.8185792070822284\n",
      "i=2300\tc=[0.06177147 0.06927173 0.00239638]\tc_i=0.13343958277545748\tc_i//2-c_i=-0.007671181496063828\n",
      "i=2350\tc=[0.08181567 0.70710613 0.15003751]\tc_i=0.9389593051384385\tc_i//2-c_i=-0.20684829451503972\n",
      "i=2400\tc=[0.06493837 0.07103619 0.01335092]\tc_i=0.1493254832101096\tc_i//2-c_i=-0.02176962937006066\n",
      "i=2450\tc=[0.07429553 0.07960008 0.04490612]\tc_i=0.19880172812807123\tc_i//2-c_i=0.15873134255634136\n",
      "i=2500\tc=[0.0364726  0.03240583 0.00012921]\tc_i=0.06900764627728809\tc_i//2-c_i=0.07153618184446198\n",
      "i=2550\tc=[0.10716357 0.07118876 0.01178493]\tc_i=0.19013725424361372\tc_i//2-c_i=-0.1584316084256563\n",
      "i=2600\tc=[0.0686467  0.08523878 0.00529822]\tc_i=0.15918370418380623\tc_i//2-c_i=-0.04569575843720387\n",
      "i=2650\tc=[0.02520186 0.01389408 0.02441618]\tc_i=0.06351212469151805\tc_i//2-c_i=0.07194379333564342\n",
      "i=2700\tc=[0.06566381 0.07153743 0.00758454]\tc_i=0.14478578066314698\tc_i//2-c_i=-0.019017379384055677\n",
      "i=2750\tc=[0.00765202 0.70710678 0.00109564]\tc_i=0.7158544413451051\tc_i//2-c_i=-0.6616261286668111\n",
      "i=2800\tc=[0.00492744 0.70710678 0.00192076]\tc_i=0.7139549756952029\tc_i//2-c_i=-0.004669805358394452\n",
      "STOP(\"VTR with {'tolerance': 0.01, 'target': 0.0}\")\n"
     ]
    },
    {
     "ename": "ValueError",
     "evalue": "too many values to unpack (expected 2)",
     "output_type": "error",
     "traceback": [
      "\u001b[0;31m---------------------------------------------------------------------------\u001b[0m",
      "\u001b[0;31mValueError\u001b[0m                                Traceback (most recent call last)",
      "\u001b[1;32m/Users/nottforestfc/Library/CloudStorage/OneDrive-RiceUniversity/Documents/Research/Fermi Hubbard tweezer array/Computation/src/mystic_test.ipynb Cell 1'\u001b[0m in \u001b[0;36m<cell line: 21>\u001b[0;34m()\u001b[0m\n\u001b[1;32m     <a href='vscode-notebook-cell:/Users/nottforestfc/Library/CloudStorage/OneDrive-RiceUniversity/Documents/Research/Fermi%20Hubbard%20tweezer%20array/Computation/src/mystic_test.ipynb#W0sZmlsZQ%3D%3D?line=16'>17</a>\u001b[0m Ntime \u001b[39m=\u001b[39m \u001b[39m100\u001b[39m\n\u001b[1;32m     <a href='vscode-notebook-cell:/Users/nottforestfc/Library/CloudStorage/OneDrive-RiceUniversity/Documents/Research/Fermi%20Hubbard%20tweezer%20array/Computation/src/mystic_test.ipynb#W0sZmlsZQ%3D%3D?line=17'>18</a>\u001b[0m \u001b[39m# v0, bounds = G.init_guess()\u001b[39;00m\n\u001b[1;32m     <a href='vscode-notebook-cell:/Users/nottforestfc/Library/CloudStorage/OneDrive-RiceUniversity/Documents/Research/Fermi%20Hubbard%20tweezer%20array/Computation/src/mystic_test.ipynb#W0sZmlsZQ%3D%3D?line=18'>19</a>\u001b[0m \u001b[39m# v0_len = v0.shape[0]\u001b[39;00m\n\u001b[1;32m     <a href='vscode-notebook-cell:/Users/nottforestfc/Library/CloudStorage/OneDrive-RiceUniversity/Documents/Research/Fermi%20Hubbard%20tweezer%20array/Computation/src/mystic_test.ipynb#W0sZmlsZQ%3D%3D?line=19'>20</a>\u001b[0m \u001b[39m# c = np.zeros((Ntime, 1 + 2 * v0_len))\u001b[39;00m\n\u001b[0;32m---> <a href='vscode-notebook-cell:/Users/nottforestfc/Library/CloudStorage/OneDrive-RiceUniversity/Documents/Research/Fermi%20Hubbard%20tweezer%20array/Computation/src/mystic_test.ipynb#W0sZmlsZQ%3D%3D?line=20'>21</a>\u001b[0m res, info \u001b[39m=\u001b[39m G\u001b[39m.\u001b[39mequalzie_mystic(\u001b[39m'\u001b[39m\u001b[39muvt\u001b[39m\u001b[39m'\u001b[39m, random\u001b[39m=\u001b[39m\u001b[39mTrue\u001b[39;00m, callback\u001b[39m=\u001b[39m\u001b[39mTrue\u001b[39;00m)\n",
      "\u001b[0;31mValueError\u001b[0m: too many values to unpack (expected 2)"
     ]
    }
   ],
   "source": [
    "from Hubbard.equalizer import *\n",
    "import numpy as np\n",
    "import matplotlib.pyplot as plt\n",
    "\n",
    "N = 20\n",
    "R0 = np.array([3, 3, 7.2])\n",
    "G = HubbardParamEqualizer(N,\n",
    "                          R0=R0,\n",
    "                          lattice=np.array([4], dtype=int),\n",
    "                          band=1,\n",
    "                          dim=1,\n",
    "                          avg=1 / 2,\n",
    "                          sparse=True,\n",
    "                          equalize=False,\n",
    "                          symmetry=True,\n",
    "                          verbosity=0)\n",
    "Ntime = 100\n",
    "# v0, bounds = G.init_guess()\n",
    "# v0_len = v0.shape[0]\n",
    "# c = np.zeros((Ntime, 1 + 2 * v0_len))\n",
    "res, info = G.equalzie_mystic('uvt', random=True, callback=True)\n"
   ]
  }
 ],
 "metadata": {
  "interpreter": {
   "hash": "2e40e3571ba90a1d990bbd4d6b3d06901092cda6d190c6165fb53b18965115c0"
  },
  "kernelspec": {
   "display_name": "Python 3.9.13 ('base')",
   "language": "python",
   "name": "python3"
  },
  "language_info": {
   "codemirror_mode": {
    "name": "ipython",
    "version": 3
   },
   "file_extension": ".py",
   "mimetype": "text/x-python",
   "name": "python",
   "nbconvert_exporter": "python",
   "pygments_lexer": "ipython3",
   "version": "3.9.13"
  },
  "orig_nbformat": 4
 },
 "nbformat": 4,
 "nbformat_minor": 2
}

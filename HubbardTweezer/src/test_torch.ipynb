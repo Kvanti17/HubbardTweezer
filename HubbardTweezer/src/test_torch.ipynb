{
 "cells": [
  {
   "cell_type": "code",
   "execution_count": 6,
   "metadata": {},
   "outputs": [
    {
     "name": "stdout",
     "output_type": "stream",
     "text": [
      "DVR: dx=[0.6]w is set.\n",
      "DVR: n=[5] is set.\n",
      "DVR: R0=[3.]w is set.\n",
      "['x']-reflection symmetry is used.\n",
      "param_set: trap parameter V0=104.52kHz w=1000nm\n",
      "[ 2.22044605e-16 -5.55111512e-17  2.60208521e-18]\n",
      "[[-3.33066907e-16  2.22044605e-16  1.09287579e-16]\n",
      " [ 1.80411242e-16  4.44089210e-16  1.24900090e-16]\n",
      " [ 9.71445147e-17  1.38777878e-17 -3.33066907e-16]\n",
      " [-1.63064007e-16  4.85722573e-17  4.44089210e-16]\n",
      " [ 1.24466409e-16  1.73472348e-16 -3.33066907e-16]\n",
      " [ 8.76035355e-17  8.67361738e-17 -2.77555756e-16]]\n"
     ]
    }
   ],
   "source": [
    "import numpy as np\n",
    "import torch\n",
    "from DVR.core import *\n",
    "import matplotlib.pyplot as plt\n",
    "\n",
    "N = 5\n",
    "k = 3\n",
    "n = np.array([N, 0, 0])\n",
    "R0 = np.array([3, 3, 7.2])\n",
    "dvr = DVR(n,\n",
    "          R0=R0,\n",
    "          avg=1,\n",
    "          sparse=True,\n",
    "          symmetry=True)\n",
    "dvr.p *= dvr.n != 0\n",
    "dvr.dx *= dvr.n != 0\n",
    "\n",
    "T = dvr.Tmat()\n",
    "V, no = dvr.Vmat()\n",
    "# for i in range(3):\n",
    "#     print(T[i])\n",
    "# print(V)\n",
    "if dvr.verbosity > 2:\n",
    "    print(\"H_op: n={} dx={}w p={} {} operator constructed.\".format(\n",
    "        dvr.n[dvr.nd], dvr.dx[dvr.nd], dvr.p[dvr.nd], dvr.model))\n",
    "\n",
    "t0 = time()\n",
    "N = np.prod(no)\n",
    "\n",
    "if dvr.verbosity > 2:\n",
    "    print('H_solver: diagonalize sparse hermitian matrix.')\n",
    "H = LinearOperator([torch.from_numpy(T[i]).requires_grad_()\n",
    "                   for i in range(len(T))], torch.Tensor(V).requires_grad_(), no)\n",
    "e1, w1 = symeig(H, k)\n",
    "def applyH(psi) -> np.ndarray: return dvr.H_op(T, V, no, psi)\n",
    "\n",
    "\n",
    "H = ssla.LinearOperator((N, N), matvec=applyH)\n",
    "e2, w2 = ssla.eigsh(H, k, which='SA')\n",
    "print(e1.detach().numpy() - e2)\n",
    "print(abs(w1.detach().numpy()) - abs(w2))\n"
   ]
  }
 ],
 "metadata": {
  "kernelspec": {
   "display_name": "Python 3.10.6 ('base')",
   "language": "python",
   "name": "python3"
  },
  "language_info": {
   "codemirror_mode": {
    "name": "ipython",
    "version": 3
   },
   "file_extension": ".py",
   "mimetype": "text/x-python",
   "name": "python",
   "nbconvert_exporter": "python",
   "pygments_lexer": "ipython3",
   "version": "3.10.6"
  },
  "orig_nbformat": 4,
  "vscode": {
   "interpreter": {
    "hash": "2e40e3571ba90a1d990bbd4d6b3d06901092cda6d190c6165fb53b18965115c0"
   }
  }
 },
 "nbformat": 4,
 "nbformat_minor": 2
}

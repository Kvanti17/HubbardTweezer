{
 "cells": [
  {
   "cell_type": "code",
   "execution_count": 1,
   "metadata": {},
   "outputs": [
    {
     "name": "stdout",
     "output_type": "stream",
     "text": [
      "lattice: lattice shape is triangular; lattice constants set to: (1520, 1690)\n",
      "Triangular lattice size adjust to: [4 2]\n",
      "Equalize: scale_factor is not a number. Set to None.\n"
     ]
    }
   ],
   "source": [
    "from Hubbard.equalizer import *\n",
    "import numpy as np\n",
    "from Hubbard.io import *\n",
    "\n",
    "N = 20\n",
    "L = 4\n",
    "Ly = 2\n",
    "d = 3\n",
    "shape = 'triangular'\n",
    "w = 'x'\n",
    "eqt = 'uvt'\n",
    "R0 = np.array([3, 3, 7.2])\n",
    "G = HubbardEqualizer(N,\n",
    "                     R0=R0,\n",
    "                     lattice=np.array([L, Ly], dtype=int),\n",
    "                     band=1,\n",
    "                     dim=d,\n",
    "                     avg=0.5,\n",
    "                     ghost=True,\n",
    "                     sparse=True,\n",
    "                     shape=shape,\n",
    "                     waist=w,\n",
    "                     equalize=False,\n",
    "                     lattice_symmetry=False,\n",
    "                     verbosity=0)\n",
    "ghost = True\n",
    "mask = np.ones(G.Nsite, dtype=bool)\n",
    "err = ValueError('Ghost sites not implemented for this lattice.')\n",
    "\n",
    "\n",
    "def xy_boundaries(G, N):\n",
    "    x_bdry = np.concatenate((np.arange(N), np.arange(-N, 0)))\n",
    "    y_bdry = np.concatenate(\n",
    "        (np.arange(0, G.Nsite, N), np.arange(N-1, G.Nsite, N)))\n",
    "    return x_bdry, y_bdry\n",
    "\n",
    "\n",
    "if ghost:\n",
    "    if G.lattice_dim == 1:\n",
    "        mask[[0, -1]] = False\n",
    "    elif G.lattice_dim == 2:\n",
    "        if G.lattice_shape == 'square' \\\n",
    "                or G.lattice_shape == 'triangular' and not G.ls:\n",
    "            Nx, Ny = G.size\n",
    "            if G.lattice_shape == 'square':\n",
    "                x_bdry, y_bdry = xy_boundaries(G, Ny)\n",
    "            elif G.lattice_shape == 'triangular':\n",
    "                y_bdry, x_bdry = xy_boundaries(G, Nx)\n",
    "            bdry = [x_bdry, y_bdry]\n",
    "            mask_axis = np.nonzero(G.size > 2)[0]\n",
    "            if mask_axis.size != 0:\n",
    "                masked_idx = np.concatenate([bdry[i] for i in mask_axis])\n",
    "                mask[masked_idx] = False\n",
    "        else:\n",
    "            raise err\n",
    "    else:\n",
    "        raise err\n",
    "    mask_idx = np.where(~mask)[0]\n",
    "    G.masked_links = squeeze_idx(G.links, mask_idx)\n",
    "else:\n",
    "    G.masked_links = G.links\n",
    "G.mask = mask\n"
   ]
  }
 ],
 "metadata": {
  "kernelspec": {
   "display_name": "Python 3.10.6 ('base')",
   "language": "python",
   "name": "python3"
  },
  "language_info": {
   "codemirror_mode": {
    "name": "ipython",
    "version": 3
   },
   "file_extension": ".py",
   "mimetype": "text/x-python",
   "name": "python",
   "nbconvert_exporter": "python",
   "pygments_lexer": "ipython3",
   "version": "3.10.6"
  },
  "orig_nbformat": 4,
  "vscode": {
   "interpreter": {
    "hash": "2e40e3571ba90a1d990bbd4d6b3d06901092cda6d190c6165fb53b18965115c0"
   }
  }
 },
 "nbformat": 4,
 "nbformat_minor": 2
}

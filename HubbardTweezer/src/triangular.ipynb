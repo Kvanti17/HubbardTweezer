{
 "cells": [
  {
   "cell_type": "markdown",
   "metadata": {},
   "source": [
    "# Triangular lattice"
   ]
  },
  {
   "cell_type": "code",
   "execution_count": null,
   "metadata": {},
   "outputs": [],
   "source": [
    "from Hubbard.plot import *\n",
    "import numpy as np\n",
    "from Hubbard.output import *\n",
    "\n",
    "N = 20\n",
    "L = 3\n",
    "d = 3\n",
    "shape = 'square'\n",
    "w = 'xy'\n",
    "eqt = 'uvt'\n",
    "R0 = np.array([3, 3, 7.2])\n",
    "G = HubbardGraph(N,\n",
    "                 R0=R0,\n",
    "                 lattice=np.array([L, L], dtype=int),\n",
    "                 band=1,\n",
    "                 dim=d,\n",
    "                 avg=0.5,\n",
    "                 sparse=True,\n",
    "                 shape=shape,\n",
    "                 waist=w,\n",
    "                 equalize=False,\n",
    "                 eqtarget=eqt,\n",
    "                 symmetry=True,\n",
    "                 verbosity=0)\n",
    "fn = f'../output/{d}D_{L}x{L}_{shape}_{w}_{eqt}.ini'\n",
    "report = rep.get_report(fn)\n",
    "G.U, G.A = read_Hubbard(report)\n",
    "G.Voff, G.trap_centers, G.waists = read_trap(report)\n",
    "G.draw_graph(nnn=False, A=G.A, U=G.U)\n",
    "print(f'V = {np.diag(G.A)}')\n",
    "t = abs(G.nn_tunneling(G.A))\n",
    "print(f't = {t}')\n",
    "print(f'U = {G.U}')\n",
    "print(f'V_err = {np.sqrt(G.v_cost_func(G.A, None))}')\n",
    "print(f't_err = {np.sqrt(G.t_cost_func(G.A, None, None))}')\n",
    "print(f'U_err = {np.sqrt(G.u_cost_func(G.U, None))}')\n"
   ]
  }
 ],
 "metadata": {
  "kernelspec": {
   "display_name": "Python 3.9.13 ('base')",
   "language": "python",
   "name": "python3"
  },
  "language_info": {
   "name": "python",
   "version": "3.9.13"
  },
  "orig_nbformat": 4,
  "vscode": {
   "interpreter": {
    "hash": "2eac8acd6336e4fe74f41d72826d26c405cc4c08fb81a7ef84e2f26d4bf70bea"
   }
  }
 },
 "nbformat": 4,
 "nbformat_minor": 2
}

{
 "cells": [
  {
   "cell_type": "markdown",
   "metadata": {},
   "source": [
    "# ```reportIO``` test"
   ]
  },
  {
   "cell_type": "code",
   "execution_count": 1,
   "metadata": {},
   "outputs": [
    {
     "name": "stdout",
     "output_type": "stream",
     "text": [
      "geometry = square\n",
      "nx = 2.0\n",
      "Input is set to None.\n",
      "none_var = None\n",
      "nonExistItem = nan\n",
      "nonExistItem = 1\n"
     ]
    }
   ],
   "source": [
    "import reportIO as rep\n",
    "import numpy as np\n",
    "\n",
    "filename = 'haotian_example.ini'\n",
    "report = rep.get_report(filename)\n",
    "\n",
    "print(\"geometry =\", rep.s(report, \"Parameters\", \"geometry\"))\n",
    "print(\"nx =\", rep.f(report, \"Parameters\", \"nx\"))\n",
    "print(\"none_var =\", rep.f(report, \"Parameters\", \"none_var\"))\n",
    "print(\"nonExistItem =\", rep.f(report, \"Parameters\", \"nonExistItem\"))\n",
    "print(\"nonExistItem =\", rep.f(report, \"Parameters\", \"nonExistItem\", 1))\n"
   ]
  },
  {
   "cell_type": "code",
   "execution_count": 2,
   "metadata": {},
   "outputs": [
    {
     "name": "stdout",
     "output_type": "stream",
     "text": [
      "Report loaded\n",
      "Created section: Output3\n",
      "[]\n",
      "[]\n"
     ]
    }
   ],
   "source": [
    "import reportIO as rep\n",
    "import numpy as np\n",
    "\n",
    "filename = 'haotian_example.ini'\n",
    "report = rep.get_report(filename)\n",
    "\n",
    "values2 = {\n",
    "    \"array_1d\": np.linspace(0, 1, 10),\n",
    "    \"array_2d\": np.eye(3, 3),\n",
    "    \"dict\": {\n",
    "        \"A\": 1,\n",
    "        \"B\": 2\n",
    "    },\n",
    "}\n",
    "rep.create_report(filename, \"Output3\", **values2)\n",
    "\n",
    "print(rep.a(report, \"Output3\", \"array_1d\"))\n",
    "print(rep.a(report, \"Output3\", \"array_2d\"))"
   ]
  },
  {
   "cell_type": "code",
   "execution_count": 4,
   "metadata": {},
   "outputs": [
    {
     "name": "stdout",
     "output_type": "stream",
     "text": [
      "[]\n"
     ]
    }
   ],
   "source": [
    "print(rep.a(report, \"Output3\", \"dict\"))"
   ]
  }
 ],
 "metadata": {
  "interpreter": {
   "hash": "2e40e3571ba90a1d990bbd4d6b3d06901092cda6d190c6165fb53b18965115c0"
  },
  "kernelspec": {
   "display_name": "Python 3.9.13 ('base')",
   "language": "python",
   "name": "python3"
  },
  "language_info": {
   "codemirror_mode": {
    "name": "ipython",
    "version": 3
   },
   "file_extension": ".py",
   "mimetype": "text/x-python",
   "name": "python",
   "nbconvert_exporter": "python",
   "pygments_lexer": "ipython3",
   "version": "3.9.13"
  },
  "orig_nbformat": 4,
  "vscode": {
   "interpreter": {
    "hash": "2e40e3571ba90a1d990bbd4d6b3d06901092cda6d190c6165fb53b18965115c0"
   }
  }
 },
 "nbformat": 4,
 "nbformat_minor": 2
}

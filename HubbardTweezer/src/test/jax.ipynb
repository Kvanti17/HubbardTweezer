{
 "cells": [
  {
   "cell_type": "code",
   "execution_count": 1,
   "metadata": {},
   "outputs": [
    {
     "name": "stdout",
     "output_type": "stream",
     "text": [
      "DVR: dx=[0.15]w is set.\n",
      "DVR: n=[20] is set.\n",
      "DVR: R0=[3.]w is set.\n",
      "['x']-reflection symmetry is used.\n",
      "param_set: trap parameter V0=104.52kHz w=1000nm\n",
      "Triangular lattice size adjust to: [4 1]\n",
      "lattice: dx is fixed at: [0.15 0.   0.  ]w\n",
      "lattice: lattice shape is square\n",
      "lattice: Full lattice sizes: [4]\n",
      "lattice: lattice constants: [1.52 1.69 1.52]w\n",
      "DVR: dx=[0.15]w is set.\n",
      "DVR: n=[35] is set.\n",
      "DVR: R0=[5.28]w is set.\n",
      "H_op: n=[35] dx=[0.15]w p=[1] Gaussian sparse diagonalization is enabled. Lowest 4 states are to be calculated.\n",
      "H_op: n=[35] dx=[0.15]w p=[1] Gaussian operator constructed.\n",
      "H_solver: diagonalize sparse hermitian matrix.\n",
      "H_solver: Gaussian Hamiltonian solved. Time spent: 0.00s.\n",
      "H_solver: eigenstates memory usage: 0.00 MiB.\n",
      "H_op: n=[35] dx=[0.15]w p=[-1] Gaussian sparse diagonalization is enabled. Lowest 4 states are to be calculated.\n",
      "H_op: n=[35] dx=[0.15]w p=[-1] Gaussian operator constructed.\n",
      "H_solver: diagonalize sparse hermitian matrix.\n",
      "H_solver: Gaussian Hamiltonian solved. Time spent: 0.00s.\n",
      "H_solver: eigenstates memory usage: 0.00 MiB.\n",
      "Optimizing...\n",
      "Terminated - min grad norm reached after 59 iterations, 0.02 seconds.\n",
      "\n",
      "Trap site position of Wannier functions: [0 2 3 1]\n",
      "Order of Wannier function is set to match trap site.\n",
      "Calculate U.\n"
     ]
    }
   ],
   "source": [
    "import jax.numpy as np\n",
    "from Hubbard.plot import *\n",
    "\n",
    "N = 20\n",
    "R0 = np.array([3, 3, 7.2])\n",
    "G = HubbardGraph(N,\n",
    "                 R0=R0,\n",
    "                 lattice=np.array([4], dtype=int),\n",
    "                 band=1,\n",
    "                 dim=1,\n",
    "                 avg=1 / 2,\n",
    "                 sparse=True,\n",
    "                 symmetry=True)\n",
    "v = True\n",
    "fixed = False\n",
    "A, U = G.singleband_solution(True)\n",
    "\n",
    "Utarget = np.mean(U)\n",
    "nnt = G.nn_tunneling(A)\n",
    "xlinks, ylinks, nntx, nnty = G.xy_links(nnt)\n",
    "if fixed:\n",
    "    Vtarget = np.mean(np.real(np.diag(A)))\n",
    "else:\n",
    "    Vtarget = None\n",
    "\n",
    "def cost_func(offset: np.ndarray) -> float:\n",
    "    c = G.cbd_cost_func(offset, (xlinks, ylinks),\n",
    "                        (Vtarget, Utarget, nntx, nnty), v)\n",
    "    return c"
   ]
  },
  {
   "cell_type": "code",
   "execution_count": 4,
   "metadata": {},
   "outputs": [],
   "source": [
    "from jax import grad, jit, vmap\n",
    "\n",
    "v01 = np.ones(G.Nindep)\n",
    "v02 = G.trap_centers[G.reflection[:, 0]]\n",
    "# Bound trap depth variation\n",
    "b1 = list((0.9, 1.1) for i in range(G.Nindep))\n",
    "# Bound lattice spacing variation\n",
    "xbonds = tuple(\n",
    "    (v02[i, 0] - 0.05, v02[i, 0] + 0.05) for i in range(G.Nindep))\n",
    "if G.lattice_dim == 1:\n",
    "    ybonds = tuple((0, 0) for i in range(G.Nindep))\n",
    "else:\n",
    "    ybonds = tuple(\n",
    "        (v02[i, 1] - 0.05, v02[i, 1] + 0.05) for i in range(G.Nindep))\n",
    "nested = tuple((xbonds[i], ybonds[i]) for i in range(G.Nindep))\n",
    "b2 = list(item for sublist in nested for item in sublist)\n",
    "\n",
    "v0 = np.concatenate((v01, v02.reshape(-1)))\n",
    "bonds = tuple(b1 + b2)\n",
    "\n",
    "cg = grad(cost_func)\n",
    "cj = jit(cost_func)"
   ]
  }
 ],
 "metadata": {
  "kernelspec": {
   "display_name": "Python 3.9.13 ('base')",
   "language": "python",
   "name": "python3"
  },
  "language_info": {
   "codemirror_mode": {
    "name": "ipython",
    "version": 3
   },
   "file_extension": ".py",
   "mimetype": "text/x-python",
   "name": "python",
   "nbconvert_exporter": "python",
   "pygments_lexer": "ipython3",
   "version": "3.9.13"
  },
  "orig_nbformat": 4,
  "vscode": {
   "interpreter": {
    "hash": "2e40e3571ba90a1d990bbd4d6b3d06901092cda6d190c6165fb53b18965115c0"
   }
  }
 },
 "nbformat": 4,
 "nbformat_minor": 2
}

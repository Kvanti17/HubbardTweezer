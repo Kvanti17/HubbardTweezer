{
 "cells": [
  {
   "cell_type": "markdown",
   "metadata": {},
   "source": [
    "# Transit `trf` to `NM` ini script"
   ]
  },
  {
   "cell_type": "code",
   "execution_count": 5,
   "metadata": {},
   "outputs": [],
   "source": [
    "import os\n",
    "import matplotlib.pyplot as plt\n",
    "from Hubbard.plot import *\n",
    "import numpy as np\n",
    "from Hubbard.io import *\n",
    "\n",
    "N = 20\n",
    "L = 5\n",
    "Ly = 5\n",
    "d = 3\n",
    "shape = 'square'\n",
    "w = 'xy'\n",
    "eqt = 'UvT'\n",
    "\n",
    "fnroot = f'../output/ghost/{d}D_{L}x{Ly}_{shape}_{w}_{eqt}'\n",
    "fn = fnroot + '_trf.ini'\n",
    "report = rep.get_report(fn)\n",
    "fn_target = fnroot + '_NM.ini'\n",
    "\n",
    "\n",
    "os.system(f'cp {fn} {fn_target}')\n",
    "\n",
    "report = rep.get_report(fn_target)\n",
    "value = {'method': 'NM'}\n",
    "rep.create_report(report, 'Parameters', **value)\n",
    "x = rep.a(report, 'Equalization_Log', 'x')\n",
    "x_width = x.shape[1]\n",
    "x = x[-x_width+1:, :]\n",
    "value = {'simplex': x}\n",
    "rep.create_report(report, 'Equalization_Result', **value)\n"
   ]
  }
 ],
 "metadata": {
  "kernelspec": {
   "display_name": "Python 3.10.6 ('base')",
   "language": "python",
   "name": "python3"
  },
  "language_info": {
   "codemirror_mode": {
    "name": "ipython",
    "version": 3
   },
   "file_extension": ".py",
   "mimetype": "text/x-python",
   "name": "python",
   "nbconvert_exporter": "python",
   "pygments_lexer": "ipython3",
   "version": "3.10.6"
  },
  "orig_nbformat": 4,
  "vscode": {
   "interpreter": {
    "hash": "2e40e3571ba90a1d990bbd4d6b3d06901092cda6d190c6165fb53b18965115c0"
   }
  }
 },
 "nbformat": 4,
 "nbformat_minor": 2
}

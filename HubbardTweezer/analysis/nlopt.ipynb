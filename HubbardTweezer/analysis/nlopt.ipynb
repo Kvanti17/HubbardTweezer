{
 "cells": [
  {
   "attachments": {},
   "cell_type": "markdown",
   "metadata": {},
   "source": [
    "# Test `NLOPT` and `global_optim`"
   ]
  },
  {
   "cell_type": "code",
   "execution_count": null,
   "metadata": {},
   "outputs": [],
   "source": [
    "import matplotlib.pyplot as plt\n",
    "import numpy as np\n",
    "\n",
    "import sys\n",
    "import os\n",
    "\n",
    "module_path = os.path.abspath(os.path.join(\"..\"))\n",
    "if module_path not in sys.path:\n",
    "    sys.path.append(module_path)\n"
   ]
  },
  {
   "cell_type": "code",
   "execution_count": null,
   "metadata": {},
   "outputs": [],
   "source": [
    "from HubbardTweezer.Hubbard.plot import *\n",
    "import numpy as np\n",
    "from HubbardTweezer.Hubbard.io import *\n",
    "\n",
    "N = 20\n",
    "L = 4\n",
    "Ly = 1\n",
    "d = 1\n",
    "shape = \"square\"\n",
    "w = None\n",
    "eqt = \"UvT\"\n",
    "meth = \"trf\"\n",
    "R0 = np.array([3, 3, 7.2])\n",
    "G = HubbardGraph(\n",
    "    N,\n",
    "    R0=R0,\n",
    "    lattice=np.array([L, Ly], dtype=int),\n",
    "    trap=(50, (930, 1250)),\n",
    "    trap=(52.26, 1000),\n",
    "    lc=(1550, 1600),\n",
    "    ascatt=1770,\n",
    "    laser=780,\n",
    "    band=1,\n",
    "    dim=d,\n",
    "    sparse=True,\n",
    "    shape=shape,\n",
    "    waist=w,\n",
    "    equalize=True,\n",
    "    eqtarget=eqt,\n",
    "    eqmethod=meth,\n",
    "    symmetry=True,\n",
    "    verbosity=3,\n",
    ")\n",
    "G.draw_graph()\n"
   ]
  }
 ],
 "metadata": {
  "kernelspec": {
   "display_name": "base",
   "language": "python",
   "name": "python3"
  },
  "language_info": {
   "name": "python",
   "version": "3.10.9 | packaged by conda-forge | (main, Feb  2 2023, 20:26:08) [Clang 14.0.6 ]"
  },
  "orig_nbformat": 4,
  "vscode": {
   "interpreter": {
    "hash": "2e40e3571ba90a1d990bbd4d6b3d06901092cda6d190c6165fb53b18965115c0"
   }
  }
 },
 "nbformat": 4,
 "nbformat_minor": 2
}

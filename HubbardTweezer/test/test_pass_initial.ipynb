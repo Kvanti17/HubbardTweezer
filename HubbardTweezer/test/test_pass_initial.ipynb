{
 "cells": [
  {
   "attachments": {},
   "cell_type": "markdown",
   "metadata": {},
   "source": [
    "# Test effect of pass initial vector to H_solver"
   ]
  },
  {
   "cell_type": "code",
   "execution_count": 2,
   "metadata": {},
   "outputs": [],
   "source": [
    "# Directives on Jupyter\n",
    "%reset\n",
    "# Auto reload bootstrap.py\n",
    "%load_ext autoreload\n",
    "%autoreload 2\n",
    "\n",
    "import matplotlib.pyplot as plt\n",
    "import numpy as np\n",
    "\n",
    "import sys\n",
    "import os\n",
    "\n",
    "module_path = os.path.abspath(os.path.join(\"..\"))\n",
    "if module_path not in sys.path:\n",
    "    sys.path.append(module_path)\n"
   ]
  },
  {
   "cell_type": "code",
   "execution_count": 6,
   "metadata": {},
   "outputs": [
    {
     "name": "stdout",
     "output_type": "stream",
     "text": [
      "DVR: dx=[0.1875 0.1875 0.45  ]w is set.\n",
      "DVR: n=[16 16 16] is set.\n",
      "DVR: R0=[3.  3.  7.2]w is set.\n",
      "['x' 'y' 'z']-reflection symmetry is used.\n",
      "param_set: trap parameter V0=52.26kHz w=1000nm\n",
      "Lattice: lattice shape is square; lattice constants set to: (1550, 1600)\n",
      "lattice: lattice shape is square\n",
      "lattice: Full lattice sizes: [3 3]\n",
      "lattice: lattice constants: [1.55 1.6 ]w\n",
      "lattice: dx fixed to: [0.1875 0.1875 0.45  ]w\n",
      "DVR: dx=[0.1875 0.1875 0.45  ]w is set.\n",
      "DVR: n=[24 24 16] is set.\n",
      "DVR: R0=[4.55 4.6  7.2 ]w is set.\n"
     ]
    }
   ],
   "source": [
    "from HubbardTweezer.Hubbard.core import *\n",
    "import numpy as np\n",
    "from HubbardTweezer.Hubbard.io import *\n",
    "\n",
    "N = 16\n",
    "L = 3\n",
    "Ly = 3\n",
    "d = 3\n",
    "shape = \"square\"\n",
    "R0 = np.array([3, 3, 7.2])\n",
    "G1 = MLWF(\n",
    "    N,\n",
    "    R0=R0,\n",
    "    lattice=np.array([L, Ly], dtype=int),\n",
    "    trap=(52.26, 1000),\n",
    "    lc=(1550, 1600),\n",
    "    ascatt=1770,\n",
    "    laser=780,\n",
    "    band=1,\n",
    "    sparse=True,\n",
    "    shape=shape,\n",
    "    symmetry=True,\n",
    ")\n"
   ]
  },
  {
   "cell_type": "code",
   "execution_count": 7,
   "metadata": {},
   "outputs": [
    {
     "name": "stdout",
     "output_type": "stream",
     "text": [
      "H_op: n=[24 24 16] dx=[0.1875 0.1875 0.45  ]w p=[1 1 1] Gaussian sparse diagonalization starts. Lowest 2 states are to be calculated.\n",
      "H_solver: Gaussian Hamiltonian solved. Time spent: 10.02s.\n",
      "H_solver: eigenstates memory usage:  0.16 MiB.\n"
     ]
    }
   ],
   "source": [
    "E, W = G1.H_solver(k=2)\n"
   ]
  },
  {
   "attachments": {},
   "cell_type": "markdown",
   "metadata": {},
   "source": [
    "10.7s"
   ]
  },
  {
   "cell_type": "code",
   "execution_count": 17,
   "metadata": {},
   "outputs": [
    {
     "data": {
      "text/plain": [
       "array([-0.71845736, -0.70207145])"
      ]
     },
     "execution_count": 17,
     "metadata": {},
     "output_type": "execute_result"
    }
   ],
   "source": [
    "E"
   ]
  },
  {
   "cell_type": "code",
   "execution_count": 18,
   "metadata": {},
   "outputs": [
    {
     "data": {
      "text/plain": [
       "array([[-1.44009320e-01,  4.86905856e-02],\n",
       "       [-1.77815291e-01,  5.96569053e-02],\n",
       "       [-1.19316855e-01,  3.90723092e-02],\n",
       "       ...,\n",
       "       [ 1.76603961e-17,  8.22895270e-18],\n",
       "       [-2.01967374e-17, -4.69520864e-18],\n",
       "       [-7.10878409e-18,  4.15909009e-18]])"
      ]
     },
     "execution_count": 18,
     "metadata": {},
     "output_type": "execute_result"
    }
   ],
   "source": [
    "W"
   ]
  },
  {
   "cell_type": "code",
   "execution_count": 14,
   "metadata": {},
   "outputs": [
    {
     "name": "stdout",
     "output_type": "stream",
     "text": [
      "DVR: dx=[0.1875 0.1875 0.45  ]w is set.\n",
      "DVR: n=[16 16 16] is set.\n",
      "DVR: R0=[3.  3.  7.2]w is set.\n",
      "['x' 'y' 'z']-reflection symmetry is used.\n",
      "param_set: trap parameter V0=55kHz w=1000nm\n",
      "Lattice: lattice shape is square; lattice constants set to: (1550, 1600)\n",
      "lattice: lattice shape is square\n",
      "lattice: Full lattice sizes: [3 3]\n",
      "lattice: lattice constants: [1.55 1.6 ]w\n",
      "lattice: dx fixed to: [0.1875 0.1875 0.45  ]w\n",
      "DVR: dx=[0.1875 0.1875 0.45  ]w is set.\n",
      "DVR: n=[24 24 16] is set.\n",
      "DVR: R0=[4.55 4.6  7.2 ]w is set.\n"
     ]
    }
   ],
   "source": [
    "G2 = MLWF(\n",
    "    N,\n",
    "    R0=R0,\n",
    "    lattice=np.array([L, Ly], dtype=int),\n",
    "    trap=(55, 1000),\n",
    "    lc=(1550, 1600),\n",
    "    ascatt=1770,\n",
    "    laser=780,\n",
    "    band=1,\n",
    "    sparse=True,\n",
    "    shape=shape,\n",
    "    symmetry=True,\n",
    ")\n"
   ]
  },
  {
   "cell_type": "code",
   "execution_count": 15,
   "metadata": {},
   "outputs": [
    {
     "name": "stdout",
     "output_type": "stream",
     "text": [
      "H_op: n=[24 24 16] dx=[0.1875 0.1875 0.45  ]w p=[1 1 1] Gaussian sparse diagonalization starts. Lowest 2 states are to be calculated.\n",
      "H_solver: Gaussian Hamiltonian solved. Time spent: 9.02s.\n",
      "H_solver: eigenstates memory usage:  0.16 MiB.\n"
     ]
    },
    {
     "data": {
      "text/plain": [
       "(array([-0.724171  , -0.70869948]),\n",
       " array([[-1.50821789e-01, -4.58017487e-02],\n",
       "        [-1.85254589e-01, -5.58257530e-02],\n",
       "        [-1.22396006e-01, -3.60014622e-02],\n",
       "        ...,\n",
       "        [ 2.86650441e-18,  1.27573728e-18],\n",
       "        [-4.06300407e-18, -5.72185549e-18],\n",
       "        [ 6.23214677e-18,  1.54578118e-17]]))"
      ]
     },
     "execution_count": 15,
     "metadata": {},
     "output_type": "execute_result"
    }
   ],
   "source": [
    "G2.H_solver(k=2)\n"
   ]
  },
  {
   "attachments": {},
   "cell_type": "markdown",
   "metadata": {},
   "source": [
    "9.7s"
   ]
  },
  {
   "cell_type": "code",
   "execution_count": 16,
   "metadata": {},
   "outputs": [
    {
     "name": "stdout",
     "output_type": "stream",
     "text": [
      "H_op: n=[24 24 16] dx=[0.1875 0.1875 0.45  ]w p=[1 1 1] Gaussian sparse diagonalization starts. Lowest 2 states are to be calculated.\n",
      "H_solver: Gaussian Hamiltonian solved. Time spent: 1.39s.\n",
      "H_solver: eigenstates memory usage:  0.16 MiB.\n"
     ]
    },
    {
     "data": {
      "text/plain": [
       "(array([-0.724171  , -0.70869948]),\n",
       " array([[ 1.50821789e-01, -4.58017487e-02],\n",
       "        [ 1.85254589e-01, -5.58257530e-02],\n",
       "        [ 1.22396006e-01, -3.60014622e-02],\n",
       "        ...,\n",
       "        [ 1.11184407e-19,  3.96350739e-19],\n",
       "        [ 4.10110057e-20,  3.86553644e-20],\n",
       "        [-3.20486057e-21,  7.33071018e-20]]))"
      ]
     },
     "execution_count": 16,
     "metadata": {},
     "output_type": "execute_result"
    }
   ],
   "source": [
    "G2.H_solver(k=2, v0=W[:, 0])\n"
   ]
  },
  {
   "attachments": {},
   "cell_type": "markdown",
   "metadata": {},
   "source": [
    "1.4s"
   ]
  },
  {
   "attachments": {},
   "cell_type": "markdown",
   "metadata": {},
   "source": [
    "Using previously solved eigenvector as initial for near parameter `eigsh` can save much time."
   ]
  }
 ],
 "metadata": {
  "kernelspec": {
   "display_name": "base",
   "language": "python",
   "name": "python3"
  },
  "language_info": {
   "codemirror_mode": {
    "name": "ipython",
    "version": 3
   },
   "file_extension": ".py",
   "mimetype": "text/x-python",
   "name": "python",
   "nbconvert_exporter": "python",
   "pygments_lexer": "ipython3",
   "version": "3.10.9"
  },
  "orig_nbformat": 4,
  "vscode": {
   "interpreter": {
    "hash": "2e40e3571ba90a1d990bbd4d6b3d06901092cda6d190c6165fb53b18965115c0"
   }
  }
 },
 "nbformat": 4,
 "nbformat_minor": 2
}

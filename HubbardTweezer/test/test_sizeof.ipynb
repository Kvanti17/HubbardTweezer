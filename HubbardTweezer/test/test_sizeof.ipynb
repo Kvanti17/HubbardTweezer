{
 "cells": [
  {
   "cell_type": "code",
   "execution_count": 3,
   "metadata": {},
   "outputs": [
    {
     "name": "stdout",
     "output_type": "stream",
     "text": [
      "8056\n",
      "8000000\n",
      "8056\n",
      "8000000\n",
      "72\n",
      "16000344\n"
     ]
    }
   ],
   "source": [
    "from pympler.asizeof import asizeof\n",
    "from sys import getsizeof\n",
    "import numpy as np\n",
    "\n",
    "a = np.random.rand(1000, 1000)\n",
    "al = a.tolist()\n",
    "b = np.random.rand(1000, 1000)\n",
    "bl = b.tolist()\n",
    "c = [a, b]\n",
    "\n",
    "print(getsizeof(al))\n",
    "print(a.nbytes)\n",
    "print(getsizeof(bl))\n",
    "print(b.nbytes)\n",
    "print(getsizeof(c))\n",
    "print(asizeof(c))\n"
   ]
  },
  {
   "cell_type": "code",
   "execution_count": 11,
   "metadata": {},
   "outputs": [
    {
     "name": "stdout",
     "output_type": "stream",
     "text": [
      "108 µs ± 1.19 µs per loop (mean ± std. dev. of 7 runs, 10,000 loops each)\n",
      "6.42 ms ± 1.46 ms per loop (mean ± std. dev. of 7 runs, 100 loops each)\n",
      "519 µs ± 9.14 µs per loop (mean ± std. dev. of 7 runs, 1,000 loops each)\n",
      "915 µs ± 263 µs per loop (mean ± std. dev. of 7 runs, 1,000 loops each)\n"
     ]
    }
   ],
   "source": [
    "from opt_einsum import contract\n",
    "import numpy as np\n",
    "\n",
    "a = np.random.rand(50, 20, 10)\n",
    "b = np.random.rand(20, 10, 50)\n",
    "c = np.random.rand(30, 40, 10)\n",
    "d = np.random.rand(10, 10, 30, 40)\n",
    "\n",
    "%timeit np.einsum('ijk,jkl->il', a, b)\n",
    "%timeit contract('ijk,jkl->il', a, b)\n",
    "%timeit np.einsum('ijk,lmij->klm', c, d)\n",
    "%timeit contract('ijk,lmij->klm', c, d)"
   ]
  },
  {
   "cell_type": "code",
   "execution_count": 14,
   "metadata": {},
   "outputs": [
    {
     "name": "stdout",
     "output_type": "stream",
     "text": [
      "21.1 ms ± 155 µs per loop (mean ± std. dev. of 7 runs, 10 loops each)\n",
      "17.3 ms ± 535 µs per loop (mean ± std. dev. of 7 runs, 100 loops each)\n"
     ]
    }
   ],
   "source": [
    "from opt_einsum import contract\n",
    "import numpy as np\n",
    "\n",
    "a = np.random.rand(40, 20)\n",
    "b = np.random.rand(1, 25)\n",
    "c = np.random.rand(15, 30)\n",
    "\n",
    "%timeit np.einsum('il,jm,kn->ikmjln', a, b, c)\n",
    "%timeit contract('il,jm,kn->ikmjln', a, b, c)"
   ]
  }
 ],
 "metadata": {
  "kernelspec": {
   "display_name": "torch",
   "language": "python",
   "name": "python3"
  },
  "language_info": {
   "codemirror_mode": {
    "name": "ipython",
    "version": 3
   },
   "file_extension": ".py",
   "mimetype": "text/x-python",
   "name": "python",
   "nbconvert_exporter": "python",
   "pygments_lexer": "ipython3",
   "version": "3.10.10"
  },
  "orig_nbformat": 4
 },
 "nbformat": 4,
 "nbformat_minor": 2
}

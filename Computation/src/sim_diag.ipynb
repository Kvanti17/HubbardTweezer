{
 "cells": [
  {
   "cell_type": "markdown",
   "metadata": {},
   "source": [
    "# Simultaneous diagonalization"
   ]
  },
  {
   "cell_type": "code",
   "execution_count": 2,
   "metadata": {},
   "outputs": [
    {
     "name": "stdout",
     "output_type": "stream",
     "text": [
      "[[ 0.          0.          0.          0.        ]\n",
      " [ 0.          0.          0.00183805  0.        ]\n",
      " [ 0.         -0.00183805  0.          0.        ]\n",
      " [ 0.          0.          0.          0.        ]]\n"
     ]
    }
   ],
   "source": [
    "import numpy as np\n",
    "import numpy.linalg as la\n",
    "\n",
    "R = [None, None]\n",
    "V = [None, None]\n",
    "R[0] = np.array([[0.,          0., - 0.68510884, 0.],\n",
    "                 [0.,         0.,        0., - 0.68644896],\n",
    "                 [-0.68510884, 0.,         0.,          0.],\n",
    "                 [0., - 0.68644896, 0.,          0.]])\n",
    "# [-0.68644896 -0.68510884  0.68510884  0.68644896]\n",
    "V[0] = np.array([[0.,        0.70710678, - 0.70710678, 0.],\n",
    "                 [0.70710678, 0.,  0., - 0.70710678],\n",
    "                 [0.,      0.70710678, 0.70710678, 0.],\n",
    "                 [0.70710678, 0.,    0.,     0.70710678]])\n",
    "R[1] = np.array([[0., - 0.68510884, 0.,        0.],\n",
    "                 [-0.68510884, 0.,         0.,         0.],\n",
    "                 [0.,      0.,         0., - 0.68644896],\n",
    "                 [0.,      0., - 0.68644896, 0.]])\n",
    "# [-0.68644896 - 0.68510884  0.68510884  0.68644896]\n",
    "V[1] = np.array([[0.,        0.70710678, - 0.70710678, 0.],\n",
    "                 [0.,      0.70710678, 0.70710678, 0.],\n",
    "                 [0.70710678, 0.,  0., - 0.70710678],\n",
    "                 [0.70710678, 0.,    0.,       0.70710678]])\n",
    "print(R[0] @ R[1] - R[1] @ R[0])"
   ]
  },
  {
   "cell_type": "code",
   "execution_count": 5,
   "metadata": {},
   "outputs": [
    {
     "data": {
      "text/plain": [
       "(array([-0.68644896, -0.68510884,  0.68510884,  0.68644896]),\n",
       " array([[-0.5,  0.5, -0.5,  0.5],\n",
       "        [-0.5,  0.5,  0.5, -0.5],\n",
       "        [-0.5, -0.5, -0.5, -0.5],\n",
       "        [-0.5, -0.5,  0.5,  0.5]]))"
      ]
     },
     "execution_count": 5,
     "metadata": {},
     "output_type": "execute_result"
    }
   ],
   "source": [
    "B = V[0].T @ R[1] @ V[0]\n",
    "la.eigh(B)"
   ]
  },
  {
   "cell_type": "markdown",
   "metadata": {},
   "source": [
    "### New unitary 'optimization' method"
   ]
  },
  {
   "cell_type": "code",
   "execution_count": 1,
   "metadata": {},
   "outputs": [
    {
     "name": "stdout",
     "output_type": "stream",
     "text": [
      "DVR: dx=[0.15 0.15 0.36]w is set.\n",
      "DVR: n=[20 20 20] is set.\n",
      "DVR: R0=[3.  3.  7.2]w is set.\n",
      "['x' 'y' 'z']-reflection symmetry is used.\n",
      "param_set: trap parameter V0=104.52kHz w=1000nm\n",
      "Triangular lattice size adjust to: [4 1]\n",
      "lattice: dx is fixed at: [0.15 0.15 0.36]w\n",
      "lattice: lattice shape is square\n",
      "lattice: Full lattice sizes: [4]\n",
      "lattice: lattice constants: [1.5 1.5 1.5]w\n",
      "DVR: dx=[0.15 0.15 0.36]w is set.\n",
      "DVR: n=[35 20 20] is set.\n",
      "DVR: R0=[5.25 3.   7.2 ]w is set.\n",
      "H_op: n=[35 20 20] dx=[0.15 0.15 0.36]w p=[1 1 1] Gaussian sparse diagonalization is enabled. Lowest 4 states are to be calculated.\n",
      "H_op: n=[35 20 20] dx=[0.15 0.15 0.36]w p=[1 1 1] Gaussian operator constructed.\n",
      "H_solver: diagonalize sparse hermitian matrix.\n",
      "H_solver: Gaussian Hamiltonian solved. Time spent: 0.49s.\n",
      "H_solver: eigenstates memory usage: 0.48 MiB.\n",
      "H_op: n=[35 20 20] dx=[0.15 0.15 0.36]w p=[-1  1  1] Gaussian sparse diagonalization is enabled. Lowest 4 states are to be calculated.\n",
      "H_op: n=[35 20 20] dx=[0.15 0.15 0.36]w p=[-1  1  1] Gaussian operator constructed.\n",
      "H_solver: diagonalize sparse hermitian matrix.\n",
      "H_solver: Gaussian Hamiltonian solved. Time spent: 0.44s.\n",
      "H_solver: eigenstates memory usage: 0.47 MiB.\n",
      "Optimizing...\n",
      "Terminated - min grad norm reached after 33 iterations, 0.01 seconds.\n",
      "\n",
      "Trap site position of Wannier functions: [0 3 2 1]\n",
      "Order of Wannier function is set to match trap site.\n"
     ]
    }
   ],
   "source": [
    "from Hubbard.equalizer import *\n",
    "import numpy as np\n",
    "from scipy.optimize import minimize, shgo, dual_annealing\n",
    "\n",
    "N = 20\n",
    "R0 = np.array([3, 3, 7.2])\n",
    "\n",
    "W = HubbardParamEqualizer(N,\n",
    "                          R0=R0,\n",
    "                          lattice=np.array([2, 2], dtype=int),\n",
    "                          lc=(1500, 1500),\n",
    "                          band=1,\n",
    "                          dim=3,\n",
    "                          avg=1 / 2,\n",
    "                          sparse=True,\n",
    "                          equalize=False,\n",
    "                          symmetry=True)\n",
    "\n",
    "eqV = True\n",
    "fixed = False\n",
    "W.eq_label = 'eq'\n",
    "\n",
    "E, V, parity = eigen_basis(W)\n",
    "R = locality_mat(W, V[0], parity[0])\n",
    "np.set_printoptions(precision=4, suppress=True)\n",
    "A1, U1 = singleband_optimize(W, E[0], V[0], parity[0])\n",
    "# A2, U2 = singleband_diagonalize(W, E[0], V[0], parity[0])"
   ]
  },
  {
   "cell_type": "code",
   "execution_count": 5,
   "metadata": {},
   "outputs": [
    {
     "name": "stdout",
     "output_type": "stream",
     "text": [
      "Unexpected exception formatting exception. Falling back to standard exception\n"
     ]
    },
    {
     "name": "stderr",
     "output_type": "stream",
     "text": [
      "Traceback (most recent call last):\n",
      "  File \"/Users/nottforestfc/mambaforge/lib/python3.9/site-packages/IPython/core/interactiveshell.py\", line 3398, in run_code\n",
      "    exec(code_obj, self.user_global_ns, self.user_ns)\n",
      "  File \"/var/folders/jj/svh185nn5ks_1q784w4vd_600000gn/T/ipykernel_15421/4260071070.py\", line 3, in <cell line: 3>\n",
      "    simdiag(R)\n",
      "  File \"/Users/nottforestfc/Library/CloudStorage/OneDrive-RiceUniversity/Documents/Research/Optical tweezer on Fermi Hubbard/Computation/src/tools/simdiag.py\", line 89, in simdiag\n",
      "TypeError: Matricies must commute.\n",
      "\n",
      "During handling of the above exception, another exception occurred:\n",
      "\n",
      "Traceback (most recent call last):\n",
      "  File \"/Users/nottforestfc/mambaforge/lib/python3.9/site-packages/IPython/core/interactiveshell.py\", line 1993, in showtraceback\n",
      "    stb = self.InteractiveTB.structured_traceback(\n",
      "  File \"/Users/nottforestfc/mambaforge/lib/python3.9/site-packages/IPython/core/ultratb.py\", line 1118, in structured_traceback\n",
      "    return FormattedTB.structured_traceback(\n",
      "  File \"/Users/nottforestfc/mambaforge/lib/python3.9/site-packages/IPython/core/ultratb.py\", line 1012, in structured_traceback\n",
      "    return VerboseTB.structured_traceback(\n",
      "  File \"/Users/nottforestfc/mambaforge/lib/python3.9/site-packages/IPython/core/ultratb.py\", line 865, in structured_traceback\n",
      "    formatted_exception = self.format_exception_as_a_whole(etype, evalue, etb, number_of_lines_of_context,\n",
      "  File \"/Users/nottforestfc/mambaforge/lib/python3.9/site-packages/IPython/core/ultratb.py\", line 818, in format_exception_as_a_whole\n",
      "    frames.append(self.format_record(r))\n",
      "  File \"/Users/nottforestfc/mambaforge/lib/python3.9/site-packages/IPython/core/ultratb.py\", line 736, in format_record\n",
      "    result += ''.join(_format_traceback_lines(frame_info.lines, Colors, self.has_colors, lvals))\n",
      "  File \"/Users/nottforestfc/mambaforge/lib/python3.9/site-packages/stack_data/utils.py\", line 145, in cached_property_wrapper\n",
      "    value = obj.__dict__[self.func.__name__] = self.func(obj)\n",
      "  File \"/Users/nottforestfc/mambaforge/lib/python3.9/site-packages/stack_data/core.py\", line 698, in lines\n",
      "    pieces = self.included_pieces\n",
      "  File \"/Users/nottforestfc/mambaforge/lib/python3.9/site-packages/stack_data/utils.py\", line 145, in cached_property_wrapper\n",
      "    value = obj.__dict__[self.func.__name__] = self.func(obj)\n",
      "  File \"/Users/nottforestfc/mambaforge/lib/python3.9/site-packages/stack_data/core.py\", line 649, in included_pieces\n",
      "    pos = scope_pieces.index(self.executing_piece)\n",
      "  File \"/Users/nottforestfc/mambaforge/lib/python3.9/site-packages/stack_data/utils.py\", line 145, in cached_property_wrapper\n",
      "    value = obj.__dict__[self.func.__name__] = self.func(obj)\n",
      "  File \"/Users/nottforestfc/mambaforge/lib/python3.9/site-packages/stack_data/core.py\", line 628, in executing_piece\n",
      "    return only(\n",
      "  File \"/Users/nottforestfc/mambaforge/lib/python3.9/site-packages/executing/executing.py\", line 164, in only\n",
      "    raise NotOneValueFound('Expected one value, found 0')\n",
      "executing.executing.NotOneValueFound: Expected one value, found 0\n"
     ]
    }
   ],
   "source": [
    "from tools.simdiag import simdiag\n",
    "\n",
    "simdiag(R)"
   ]
  },
  {
   "cell_type": "code",
   "execution_count": 3,
   "metadata": {},
   "outputs": [
    {
     "name": "stdout",
     "output_type": "stream",
     "text": [
      "[[-36.6954  -0.3805  -0.3276   0.0053   0.0233  -0.0008]\n",
      " [ -0.3805 -36.6954  -0.0053   0.3276   0.0008  -0.0233]\n",
      " [ -0.3276  -0.0053 -37.799    0.3749  -0.3276   0.0053]\n",
      " [  0.0053   0.3276   0.3749 -37.799    0.0053  -0.3276]\n",
      " [  0.0233   0.0008  -0.3276   0.0053 -36.6954   0.3805]\n",
      " [ -0.0008  -0.0233   0.0053  -0.3276   0.3805 -36.6954]]\n",
      "[[-0.171  -0.171  -0.6645  0.6645 -0.171   0.171 ]\n",
      " [ 0.1663 -0.1663  0.6668  0.6668  0.1663  0.1663]\n",
      " [ 0.5     0.5    -0.     -0.     -0.5     0.5   ]\n",
      " [-0.4698 -0.4698  0.2418 -0.2418 -0.4698  0.4698]\n",
      " [-0.5     0.5     0.      0.      0.5     0.5   ]\n",
      " [ 0.4715 -0.4715 -0.2352 -0.2352  0.4715  0.4715]]\n",
      "[[-37.0452   0.0548  -0.6128   0.1242  -0.0148   0.1242]\n",
      " [  0.0548 -37.0448   0.6109  -0.014    0.1242  -0.014 ]\n",
      " [ -0.6128   0.6109 -37.0998   0.1706  -0.1711   0.1706]\n",
      " [  0.1242  -0.014    0.1706 -37.0448   0.0548 -37.0448]\n",
      " [ -0.0148   0.1242  -0.1711   0.0548 -37.0452   0.0548]\n",
      " [  0.1242  -0.014    0.1706 -37.0448   0.0548 -37.0448]]\n",
      "[[ 0.3541 -0.353   0.5    -0.353   0.3541 -0.353 ]\n",
      " [-0.3541  0.353  -0.5    -0.353   0.3541 -0.353 ]\n",
      " [-0.4992 -0.5008 -0.      0.5008  0.4992  0.5008]\n",
      " [ 0.4992  0.5008  0.      0.5008  0.4992  0.5008]\n",
      " [ 0.3541 -0.353  -0.5     0.353  -0.3541  0.353 ]\n",
      " [-0.3541  0.353   0.5     0.353  -0.3541  0.353 ]]\n"
     ]
    }
   ],
   "source": [
    "print(np.real(A1))\n",
    "print(np.real(U1))\n",
    "print(A2)\n",
    "print(U2)"
   ]
  }
 ],
 "metadata": {
  "interpreter": {
   "hash": "2e40e3571ba90a1d990bbd4d6b3d06901092cda6d190c6165fb53b18965115c0"
  },
  "kernelspec": {
   "display_name": "Python 3.9.13 ('base')",
   "language": "python",
   "name": "python3"
  },
  "language_info": {
   "codemirror_mode": {
    "name": "ipython",
    "version": 3
   },
   "file_extension": ".py",
   "mimetype": "text/x-python",
   "name": "python",
   "nbconvert_exporter": "python",
   "pygments_lexer": "ipython3",
   "version": "3.9.13"
  },
  "orig_nbformat": 4
 },
 "nbformat": 4,
 "nbformat_minor": 2
}

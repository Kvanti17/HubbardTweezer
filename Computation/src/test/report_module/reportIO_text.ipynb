{
 "cells": [
  {
   "cell_type": "markdown",
   "metadata": {},
   "source": [
    "# ```reportIO``` test"
   ]
  },
  {
   "cell_type": "code",
   "execution_count": 3,
   "metadata": {},
   "outputs": [
    {
     "name": "stdout",
     "output_type": "stream",
     "text": [
      "square\n",
      "2.0\n",
      "nan\n",
      "1\n"
     ]
    }
   ],
   "source": [
    "import reportIO as rep\n",
    "import numpy as np\n",
    "\n",
    "filename = 'haotian_example.ini'\n",
    "report = rep.get_report(filename)\n",
    "\n",
    "print(rep.s(report, \"Parameters\", \"geometry\"))\n",
    "print(rep.f(report, \"Parameters\", \"nx\"))\n",
    "print(rep.f(report, \"Parameters\", \"nonExistItem\"))\n",
    "print(rep.f(report, \"Parameters\", \"nonExistItem\", 1))"
   ]
  },
  {
   "cell_type": "code",
   "execution_count": 3,
   "metadata": {},
   "outputs": [
    {
     "name": "stdout",
     "output_type": "stream",
     "text": [
      "[0.         0.11111111 0.22222222 0.33333333 0.44444444 0.55555556\n",
      " 0.66666667 0.77777778 0.88888889 1.        ]\n",
      "[[1. 0. 0.]\n",
      " [0. 1. 0.]\n",
      " [0. 0. 1.]]\n"
     ]
    }
   ],
   "source": [
    "import reportIO as rep\n",
    "import numpy as np\n",
    "\n",
    "filename = 'haotian_example.ini'\n",
    "report = rep.get_report(filename)\n",
    "\n",
    "values2 = {\n",
    "    \"array_1d\": np.linspace(0, 1, 10),\n",
    "    \"array_2d\": np.eye(3, 3),\n",
    "    \"dict\": {\n",
    "        \"A\": 1,\n",
    "        \"B\": 2\n",
    "    },\n",
    "}\n",
    "rep.create_report(filename, \"Output3\", **values2)\n",
    "\n",
    "print(rep.a(report, \"Output3\", \"array_1d\"))\n",
    "print(rep.a(report, \"Output3\", \"array_2d\"))"
   ]
  },
  {
   "cell_type": "code",
   "execution_count": 4,
   "metadata": {},
   "outputs": [
    {
     "name": "stdout",
     "output_type": "stream",
     "text": [
      "[]\n"
     ]
    }
   ],
   "source": [
    "print(rep.a(report, \"Output3\", \"dict\"))"
   ]
  }
 ],
 "metadata": {
  "kernelspec": {
   "display_name": "Python 3.9.13 ('base')",
   "language": "python",
   "name": "python3"
  },
  "language_info": {
   "codemirror_mode": {
    "name": "ipython",
    "version": 3
   },
   "file_extension": ".py",
   "mimetype": "text/x-python",
   "name": "python",
   "nbconvert_exporter": "python",
   "pygments_lexer": "ipython3",
   "version": "3.9.13"
  },
  "orig_nbformat": 4,
  "vscode": {
   "interpreter": {
    "hash": "2e40e3571ba90a1d990bbd4d6b3d06901092cda6d190c6165fb53b18965115c0"
   }
  }
 },
 "nbformat": 4,
 "nbformat_minor": 2
}

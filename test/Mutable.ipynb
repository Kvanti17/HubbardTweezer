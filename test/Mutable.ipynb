{
 "cells": [
  {
   "cell_type": "markdown",
   "metadata": {},
   "source": [
    "# Mutable and Immutable Variables in Python"
   ]
  },
  {
   "cell_type": "code",
   "execution_count": null,
   "metadata": {},
   "outputs": [],
   "source": [
    "a = np.array([1, 2, 3])\n",
    "\n",
    "\n",
    "def afun(x):\n",
    "    x[0] = 2\n",
    "\n",
    "\n",
    "def bfun(x):\n",
    "    x[0] = 2\n",
    "    return x\n",
    "\n",
    "\n",
    "def cfun(x, c):\n",
    "    x = c\n",
    "\n",
    "\n",
    "def dfun(x, d):\n",
    "    x[0] = d\n",
    "\n",
    "\n",
    "afun(a)\n",
    "print(a)\n",
    "\n",
    "a = np.array([1, 2, 3])\n",
    "\n",
    "bfun(a)\n",
    "print(a)\n",
    "\n",
    "a = np.array([1, 2, 3])\n",
    "\n",
    "b = bfun(a)\n",
    "print(a)\n",
    "\n",
    "a = np.array([1, 2, 3])\n",
    "b = np.array([2, 2, 3])\n",
    "cfun(a, b)\n",
    "print(a)\n",
    "\n",
    "al = [a]\n",
    "dfun(al, b)\n",
    "print(al[0])\n"
   ]
  },
  {
   "cell_type": "markdown",
   "metadata": {},
   "source": [
    "Mutable objects, when elements are accessed inside function, act like pointer. When they are accessed as a whole object, it behaves similar to immutable objects.\n",
    "\n",
    "Mutable objects including `list`, `ndarray`, `set` and `dict`. The others are immutable."
   ]
  }
 ],
 "metadata": {
  "interpreter": {
   "hash": "2e40e3571ba90a1d990bbd4d6b3d06901092cda6d190c6165fb53b18965115c0"
  },
  "kernelspec": {
   "display_name": "Python 3.9.13 ('base')",
   "language": "python",
   "name": "python3"
  },
  "language_info": {
   "name": "python",
   "version": "3.9.13"
  },
  "orig_nbformat": 4
 },
 "nbformat": 4,
 "nbformat_minor": 2
}

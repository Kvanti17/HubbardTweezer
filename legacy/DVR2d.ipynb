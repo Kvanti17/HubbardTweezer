{
 "cells": [
  {
   "cell_type": "markdown",
   "metadata": {},
   "source": [
    "# Sinc DVR to check 2D harmonic trap"
   ]
  },
  {
   "cell_type": "code",
   "execution_count": 3,
   "metadata": {},
   "outputs": [],
   "source": [
    "# Directives on Jupyter\n",
    "%reset\n",
    "# Auto reload bootstrap.py\n",
    "%load_ext autoreload\n",
    "%autoreload 2"
   ]
  },
  {
   "cell_type": "markdown",
   "metadata": {},
   "source": [
    "**$\\Delta x$ matching the length scale is important in the calculation!**\n",
    "\n",
    "* If $\\Delta x$ is too large, the energy might converge to inaccurate values.\n",
    "* If $\\Delta x$ is too small, the kinetic energy will be falsely too large."
   ]
  },
  {
   "cell_type": "markdown",
   "metadata": {},
   "source": [
    "## Benchmark by 1D harmonic trap using the sparse diagonalization"
   ]
  },
  {
   "cell_type": "code",
   "execution_count": 8,
   "metadata": {},
   "outputs": [
    {
     "name": "stdout",
     "output_type": "stream",
     "text": [
      "Linear operator sparse diagonalization:  [0.5 1.5 2.5 3.5 4.5]\n",
      "Linear operator converted to full matrix diagonalization:  [0.5 1.5 2.5 3.5 4.5]\n",
      "Exact full matrix diagonalization:  [0.5 1.5 2.5 3.5 4.5]\n"
     ]
    }
   ],
   "source": [
    "n = 30\n",
    "dx = 1/3\n",
    "k0 = 5\n",
    "# Sparse matrix construction for 1D DVR code for harmonic trap\n",
    "# Adopted from 3D version\n",
    "from DVR1d_sho_sp import *\n",
    "T = Tmat(n, dx)\n",
    "V = Vmat(n, dx)\n",
    "\n",
    "\n",
    "def applyH(psi):\n",
    "    return Hop(T, V, n, psi)\n",
    "\n",
    "\n",
    "N = np.product(2*n+1)\n",
    "H = LinearOperator((N, N), matvec=applyH)\n",
    "E, W = sp.linalg.eigsh(H, k=k0, which='SA')\n",
    "print(\"Linear operator sparse diagonalization: \", E)\n",
    "# Rewrite the H into explicit matrix form and diagonalize it\n",
    "Hmat = np.zeros((N, N))\n",
    "for i in range(N):\n",
    "    psi = np.zeros(N)\n",
    "    psi[i] = 1\n",
    "    Hmat[:, i] = applyH(psi)\n",
    "e, __ = np.linalg.eigh(Hmat)\n",
    "print(\"Linear operator converted to full matrix diagonalization: \", e[:k0])\n",
    "\n",
    "# Original, checked 1D DVR code for harmonic trap\n",
    "from DVR1d_sho import *\n",
    "T = Tmat(n, dx)\n",
    "V = Vmat(n, dx)\n",
    "e, __ = np.linalg.eigh(T + V)\n",
    "print(\"Exact full matrix diagonalization: \", e[:k0])"
   ]
  },
  {
   "cell_type": "markdown",
   "metadata": {},
   "source": [
    "It shows that the sparse matrix diagonalization is working well.\n",
    "\n",
    "## Benchmark by 2D harmonic trap using the sparse diagonalization\n",
    "\n",
    "This problem could also be because the matrix handled by LinearOperator is not sparse. What if doing 2D?"
   ]
  },
  {
   "cell_type": "code",
   "execution_count": 9,
   "metadata": {},
   "outputs": [
    {
     "name": "stdout",
     "output_type": "stream",
     "text": [
      "Linear operator sparse diagonalization:  [1. 2. 2. 3. 3.]\n",
      "Linear operator converted to full matrix diagonalization:  [1. 2. 2. 3. 3.]\n"
     ]
    }
   ],
   "source": [
    "n = np.array([30,30])\n",
    "dx = 1/3\n",
    "k0 = 5\n",
    "# Sparse matrix construction for 1D DVR code for harmonic trap\n",
    "# Adopted from 3D version\n",
    "from DVR2d_sho_sp import *\n",
    "T = Tmat(n, dx)\n",
    "V = Vmat(n, dx)\n",
    "\n",
    "\n",
    "def applyH(psi):\n",
    "    return Hop(T, V, n, psi)\n",
    "\n",
    "\n",
    "N = np.product(2*n+1)\n",
    "H = LinearOperator((N, N), matvec=applyH)\n",
    "E, W = sp.linalg.eigsh(H, k=k0, which='SA')\n",
    "print(\"Linear operator sparse diagonalization: \", E)\n",
    "# Rewrite the H into explicit matrix form and diagonalize it\n",
    "Hmat = np.zeros((N, N))\n",
    "for i in range(N):\n",
    "    psi = np.zeros(N)\n",
    "    psi[i] = 1\n",
    "    Hmat[:, i] = applyH(psi)\n",
    "e, __ = np.linalg.eigh(Hmat)\n",
    "print(\"Linear operator converted to full matrix diagonalization: \", e[:k0])"
   ]
  },
  {
   "cell_type": "markdown",
   "metadata": {},
   "source": [
    "### Benchmark full diagonalization by 2D harmonic potential"
   ]
  },
  {
   "cell_type": "code",
   "execution_count": 7,
   "metadata": {},
   "outputs": [
    {
     "name": "stdout",
     "output_type": "stream",
     "text": [
      "[1. 2. 2. 3. 3. 3. 4. 4. 4. 4.]\n"
     ]
    }
   ],
   "source": [
    "from DVR2d_sho import *\n",
    "n = np.array([30,30])\n",
    "dx = 1/3\n",
    "k0 = 5\n",
    "E, W = H_solver(n, dx)\n",
    "print(E[:10])"
   ]
  },
  {
   "cell_type": "markdown",
   "metadata": {},
   "source": [
    "It gives right results."
   ]
  },
  {
   "cell_type": "markdown",
   "metadata": {},
   "source": []
  }
 ],
 "metadata": {
  "interpreter": {
   "hash": "3a1ec040092c133878baa8275a88a459dc62a8e56f26b37dac6e907a6385aff5"
  },
  "kernelspec": {
   "display_name": "Python 3.8.8 64-bit ('base': conda)",
   "language": "python",
   "name": "python3"
  },
  "language_info": {
   "codemirror_mode": {
    "name": "ipython",
    "version": 3
   },
   "file_extension": ".py",
   "mimetype": "text/x-python",
   "name": "python",
   "nbconvert_exporter": "python",
   "pygments_lexer": "ipython3",
   "version": "3.8.12"
  },
  "orig_nbformat": 4
 },
 "nbformat": 4,
 "nbformat_minor": 2
}
